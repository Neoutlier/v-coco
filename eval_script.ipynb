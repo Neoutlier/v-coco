{
 "cells": [
  {
   "cell_type": "code",
   "execution_count": 3,
   "metadata": {},
   "outputs": [
    {
     "name": "stdout",
     "output_type": "stream",
     "text": [
      "{1: 'hold', 2: 'stand', 3: 'sit', 4: 'ride', 5: 'walk', 6: 'look', 7: 'hit', 8: 'eat', 9: 'jump', 10: 'lay', 11: 'talk_on_phone', 12: 'carry', 13: 'throw', 14: 'catch', 15: 'cut', 16: 'run', 17: 'work_on_computer', 18: 'ski', 19: 'surf', 20: 'skateboard', 21: 'smile', 22: 'drink', 23: 'kick', 24: 'point', 25: 'read', 26: 'snowboard'}\n",
      "{1: ['agent', 'obj'], 2: ['agent'], 3: ['agent', 'instr'], 4: ['agent', 'instr'], 5: ['agent'], 6: ['agent', 'obj'], 7: ['agent', 'instr', 'obj'], 8: ['agent', 'obj', 'instr'], 9: ['agent', 'instr'], 10: ['agent', 'instr'], 11: ['agent', 'instr'], 12: ['agent', 'obj'], 13: ['agent', 'obj'], 14: ['agent', 'obj'], 15: ['agent', 'instr', 'obj'], 16: ['agent'], 17: ['agent', 'instr'], 18: ['agent', 'instr'], 19: ['agent', 'instr'], 20: ['agent', 'instr'], 21: ['agent'], 22: ['agent', 'instr'], 23: ['agent', 'obj'], 24: ['agent', 'instr'], 25: ['agent', 'obj'], 26: ['agent', 'instr']}\n"
     ]
    }
   ],
   "source": [
    "import __init__\n",
    "import vsrl_utils as vu\n",
    "import numpy as np\n",
    "import copy\n",
    "import os\n",
    "import pickle\n",
    "import math\n",
    "\n",
    "%matplotlib inline\n",
    "import matplotlib\n",
    "import matplotlib.pyplot as plt\n",
    "\n",
    "vcoco_all = vu.load_vcoco('vcoco_train')\n",
    "classes = [x['action_name'] for x in vcoco_all]\n",
    "action_dict = {}\n",
    "role_dict = {}\n",
    "for i, x in enumerate(vcoco_all):\n",
    "    # print '{:>20s}'.format(x['action_name']), x['role_name']\n",
    "    action_dict[i+1] = x['action_name']\n",
    "    role_dict[i+1] = x['role_name']\n",
    "new_dict = {27:7, 28:8, 29:15}\n",
    "print action_dict\n",
    "print role_dict"
   ]
  },
  {
   "cell_type": "code",
   "execution_count": 2,
   "metadata": {},
   "outputs": [],
   "source": [
    "sqrt = math.sqrt\n",
    "def abboxdist(bbox1, bbox2):\n",
    "    x1, y1, x2, y2 = bbox1\n",
    "    xx1, yy1, xx2, yy2 = bbox2\n",
    "    dist = sqrt((x1-xx1) ** 2 + (y1-yy1) ** 2) + sqrt((x2-xx2) ** 2 + (y2-yy2) ** 2)\n",
    "    return dist"
   ]
  },
  {
   "cell_type": "code",
   "execution_count": 3,
   "metadata": {},
   "outputs": [
    {
     "name": "stdout",
     "output_type": "stream",
     "text": [
      "{'stand_agent': 0, 'look_agent': 0, 'cut_instr': [0, 0, 0, 0, 0], 'lay_agent': 0, 'snowboard_instr': [0, 0, 0, 0, 0], 'cut_obj': [0, 0, 0, 0, 0], 'point_agent': 0, 'surf_instr': [154.5685815148765, 205.7037966787962, 409.6667096408679, 242.28581269533976, 0.08622593653885693], 'drink_agent': 0, 'skateboard_instr': [0, 0, 0, 0, 0], 'kick_agent': 0, 'smile_agent': 0, 'kick_obj': [0, 0, 0, 0, 0], 'run_agent': 0, 'talk_on_phone_agent': 0, 'catch_obj': [0, 0, 0, 0, 0], 'eat_obj': [0, 0, 0, 0, 0], 'hit_agent': 0, 'cut_agent': 0, 'sit_instr': [0, 0, 0, 0, 0], 'throw_obj': [0, 0, 0, 0, 0], 'eat_instr': [0, 0, 0, 0, 0], 'look_obj': [0, 0, 0, 0, 0], 'surf_agent': 0.08622593653885693, 'hit_instr': [0, 0, 0, 0, 0], 'hit_obj': [0, 0, 0, 0, 0], 'sit_agent': 0, 'skateboard_agent': 0, 'carry_obj': [0, 0, 0, 0, 0], 'read_obj': [0, 0, 0, 0, 0], 'ride_instr': [0, 0, 0, 0, 0], 'jump_agent': 0, 'walk_agent': 0, 'catch_agent': 0, 'work_on_computer_agent': 0, 'read_agent': 0, 'ski_agent': 0, 'throw_agent': 0, 'snowboard_agent': 0, 'point_instr': [0, 0, 0, 0, 0], 'eat_agent': 0, 'hold_agent': 0, 'jump_instr': [0, 0, 0, 0, 0], 'work_on_computer_instr': [0, 0, 0, 0, 0], 'image_id': 137274, 'hold_obj': [0, 0, 0, 0, 0], 'drink_instr': [0, 0, 0, 0, 0], 'lay_instr': [0, 0, 0, 0, 0], 'talk_on_phone_instr': [0, 0, 0, 0, 0], 'person_box': [233.821688368757, 96.04162186469893, 372.7651016168667, 224.026287201967], 'ski_instr': [0, 0, 0, 0, 0], 'ride_agent': 0, 'carry_agent': 0}\n",
      "8105\n"
     ]
    }
   ],
   "source": [
    "result_file = 'results.txt.all'\n",
    "assert(os.path.exists(result_file))\n",
    "prediction_list = []\n",
    "pred_dict = {}\n",
    "with open(result_file, 'r') as f:\n",
    "    for line in f:\n",
    "        line2 = line[:-1]\n",
    "        elements = line2.split(' ')\n",
    "        if len(elements) == 12:\n",
    "            imgid = elements[0].rsplit('/')[-1]\n",
    "            imgid = int(imgid.split('.')[0])\n",
    "            person_box = [float(elements[1]), float(elements[2]), float(elements[3]), float(elements[4])]\n",
    "            score = float(elements[-1])\n",
    "            if score < 0.05:\n",
    "                continue\n",
    "            found = False\n",
    "            for agent_ins in prediction_list:\n",
    "                if imgid == agent_ins['image_id'] and abboxdist(agent_ins['person_box'], person_box) < 1:\n",
    "                    new_pred_dict = agent_ins\n",
    "                    found = True\n",
    "                    continue\n",
    "            if not found:\n",
    "                new_pred_dict = copy.deepcopy(pred_dict)\n",
    "                for aid in range(1,27):\n",
    "                    an = action_dict[aid]\n",
    "                    for role in role_dict[aid]:\n",
    "                        k = an + '_' + role\n",
    "                        if k not in new_pred_dict:\n",
    "                            if role == 'agent':\n",
    "                                new_pred_dict[k] = 0\n",
    "                            else:\n",
    "                                new_pred_dict[k] = [0, 0, 0, 0, 0]\n",
    "            obj_box = [float(elements[6]), float(elements[7]), float(elements[8]), float(elements[9]), score]\n",
    "            action_kind = int(elements[-2])\n",
    "            rn = 1\n",
    "            if action_kind > 26:\n",
    "                rn =  2\n",
    "                action_kind = new_dict[action_kind]\n",
    "            keyone = action_dict[action_kind] + '_agent'\n",
    "            if action_kind > 26 or len(role_dict[action_kind]) > 1:\n",
    "                keytwo = action_dict[action_kind] + '_' + role_dict[action_kind][rn]\n",
    "                if new_pred_dict[keytwo][4] > score:\n",
    "                    #print new_pred_dict[keytwo], obj_box\n",
    "                    continue\n",
    "                new_pred_dict[keytwo] = obj_box\n",
    "            elif score > 0.1:\n",
    "                print action_dict[action_kind], score\n",
    "            new_pred_dict['person_box'] = person_box\n",
    "            new_pred_dict[keyone] = score\n",
    "            new_pred_dict['image_id'] = imgid\n",
    "            if not found:\n",
    "                prediction_list.append(new_pred_dict)\n",
    "print new_pred_dict\n",
    "print len(prediction_list)"
   ]
  },
  {
   "cell_type": "code",
   "execution_count": 4,
   "metadata": {},
   "outputs": [
    {
     "name": "stdout",
     "output_type": "stream",
     "text": [
      "{'stand_agent': 0, 'look_agent': 0, 'cut_instr': [0, 0, 0, 0, 0], 'lay_agent': 0, 'snowboard_instr': [0, 0, 0, 0, 0], 'cut_obj': [0, 0, 0, 0, 0], 'point_agent': 0, 'surf_instr': [0, 0, 0, 0, 0], 'drink_agent': 0, 'skateboard_instr': [0, 0, 0, 0, 0], 'kick_agent': 0, 'smile_agent': 0, 'kick_obj': [0, 0, 0, 0, 0], 'run_agent': 0, 'talk_on_phone_agent': 0, 'catch_obj': [0, 0, 0, 0, 0], 'eat_obj': [480.36119543539434, 240.15855860170328, 515.0798607214077, 271.3900816642428, 0.06467407860350995], 'hit_agent': 0, 'cut_agent': 0, 'sit_instr': [0, 0, 0, 0, 0], 'throw_obj': [0, 0, 0, 0, 0], 'eat_instr': [0, 0, 0, 0, 0], 'look_obj': [0, 0, 0, 0, 0], 'surf_agent': 0, 'hit_instr': [0, 0, 0, 0, 0], 'hit_obj': [0, 0, 0, 0, 0], 'sit_agent': 0, 'skateboard_agent': 0, 'carry_obj': [0, 0, 0, 0, 0], 'read_obj': [0, 0, 0, 0, 0], 'ride_instr': [0, 0, 0, 0, 0], 'jump_agent': 0, 'walk_agent': 0, 'catch_agent': 0, 'work_on_computer_agent': 0, 'read_agent': 0, 'ski_agent': 0, 'throw_agent': 0, 'snowboard_agent': 0, 'point_instr': [0, 0, 0, 0, 0], 'eat_agent': 0.06467407860350995, 'hold_agent': 0.19305143566676886, 'jump_instr': [0, 0, 0, 0, 0], 'work_on_computer_instr': [0, 0, 0, 0, 0], 'image_id': 468258, 'hold_obj': [480.36119543539434, 240.15855860170328, 515.0798607214077, 271.3900816642428, 0.19305143566676886], 'drink_instr': [0, 0, 0, 0, 0], 'lay_instr': [0, 0, 0, 0, 0], 'talk_on_phone_instr': [0, 0, 0, 0, 0], 'person_box': [334.9093618277102, 108.20822345987642, 459.5274585874297, 346.6969071265295], 'ski_instr': [0, 0, 0, 0, 0], 'ride_agent': 0, 'carry_agent': 0}\n",
      "{'stand_agent': 0, 'look_agent': 0.09744173870595847, 'cut_instr': [0, 0, 0, 0, 0], 'lay_agent': 0, 'snowboard_instr': [0, 0, 0, 0, 0], 'cut_obj': [0, 0, 0, 0, 0], 'point_agent': 0, 'surf_instr': [0, 0, 0, 0, 0], 'drink_agent': 0, 'skateboard_instr': [0, 0, 0, 0, 0], 'kick_agent': 0, 'smile_agent': 0, 'kick_obj': [0, 0, 0, 0, 0], 'run_agent': 0, 'talk_on_phone_agent': 0, 'catch_obj': [0, 0, 0, 0, 0], 'eat_obj': [0, 0, 0, 0, 0], 'hit_agent': 0, 'cut_agent': 0, 'sit_instr': [299.82640842936735, 196.00714281135654, 360.2998371999523, 327.3172695410077, 0.052931120999163805], 'throw_obj': [0, 0, 0, 0, 0], 'eat_instr': [0, 0, 0, 0, 0], 'look_obj': [334.9093618277102, 108.20822345987642, 459.5274585874297, 346.6969071265295, 0.09744173870595847], 'surf_agent': 0, 'hit_instr': [0, 0, 0, 0, 0], 'hit_obj': [0, 0, 0, 0, 0], 'sit_agent': 0.052931120999163805, 'skateboard_agent': 0, 'carry_obj': [0, 0, 0, 0, 0], 'read_obj': [0, 0, 0, 0, 0], 'ride_instr': [0, 0, 0, 0, 0], 'jump_agent': 0, 'walk_agent': 0, 'catch_agent': 0, 'work_on_computer_agent': 0, 'read_agent': 0, 'ski_agent': 0, 'throw_agent': 0, 'snowboard_agent': 0, 'point_instr': [0, 0, 0, 0, 0], 'eat_agent': 0, 'hold_agent': 0, 'jump_instr': [0, 0, 0, 0, 0], 'work_on_computer_instr': [0, 0, 0, 0, 0], 'image_id': 468258, 'hold_obj': [0, 0, 0, 0, 0], 'drink_instr': [0, 0, 0, 0, 0], 'lay_instr': [0, 0, 0, 0, 0], 'talk_on_phone_instr': [0, 0, 0, 0, 0], 'person_box': [237.8526376541233, 82.78278291884895, 394.54604637747735, 359.60990247561887], 'ski_instr': [0, 0, 0, 0, 0], 'ride_agent': 0, 'carry_agent': 0}\n",
      "{'stand_agent': 0, 'look_agent': 0.08435852630836993, 'cut_instr': [0, 0, 0, 0, 0], 'lay_agent': 0, 'snowboard_instr': [0, 0, 0, 0, 0], 'cut_obj': [0, 0, 0, 0, 0], 'point_agent': 0, 'surf_instr': [0, 0, 0, 0, 0], 'drink_agent': 0, 'skateboard_instr': [0, 0, 0, 0, 0], 'kick_agent': 0, 'smile_agent': 0, 'kick_obj': [0, 0, 0, 0, 0], 'run_agent': 0, 'talk_on_phone_agent': 0, 'catch_obj': [0, 0, 0, 0, 0], 'eat_obj': [0, 0, 0, 0, 0], 'hit_agent': 0, 'cut_agent': 0, 'sit_instr': [0, 0, 0, 0, 0], 'throw_obj': [0, 0, 0, 0, 0], 'eat_instr': [0, 0, 0, 0, 0], 'look_obj': [451.5943008371859, 194.5151945542057, 486.9047363318367, 253.2916214690558, 0.08435852630836993], 'surf_agent': 0, 'hit_instr': [0, 0, 0, 0, 0], 'hit_obj': [0, 0, 0, 0, 0], 'sit_agent': 0, 'skateboard_agent': 0, 'carry_obj': [0, 0, 0, 0, 0], 'read_obj': [0, 0, 0, 0, 0], 'ride_instr': [0, 0, 0, 0, 0], 'jump_agent': 0, 'walk_agent': 0, 'catch_agent': 0, 'work_on_computer_agent': 0, 'read_agent': 0, 'ski_agent': 0, 'throw_agent': 0, 'snowboard_agent': 0, 'point_instr': [0, 0, 0, 0, 0], 'eat_agent': 0, 'hold_agent': 0, 'jump_instr': [0, 0, 0, 0, 0], 'work_on_computer_instr': [0, 0, 0, 0, 0], 'image_id': 468258, 'hold_obj': [0, 0, 0, 0, 0], 'drink_instr': [0, 0, 0, 0, 0], 'lay_instr': [0, 0, 0, 0, 0], 'talk_on_phone_instr': [0, 0, 0, 0, 0], 'person_box': [391.7378326883055, 109.2682460231017, 472.42588537286224, 217.99275249895203], 'ski_instr': [0, 0, 0, 0, 0], 'ride_agent': 0, 'carry_agent': 0}\n",
      "{'stand_agent': 0, 'look_agent': 0.08260907887954672, 'cut_instr': [0, 0, 0, 0, 0], 'lay_agent': 0, 'snowboard_instr': [0, 0, 0, 0, 0], 'cut_obj': [0, 0, 0, 0, 0], 'point_agent': 0, 'surf_instr': [0, 0, 0, 0, 0], 'drink_agent': 0, 'skateboard_instr': [0, 0, 0, 0, 0], 'kick_agent': 0, 'smile_agent': 0, 'kick_obj': [0, 0, 0, 0, 0], 'run_agent': 0, 'talk_on_phone_agent': 0, 'catch_obj': [0, 0, 0, 0, 0], 'eat_obj': [0, 0, 0, 0, 0], 'hit_agent': 0, 'cut_agent': 0, 'sit_instr': [0, 0, 0, 0, 0], 'throw_obj': [0, 0, 0, 0, 0], 'eat_instr': [0, 0, 0, 0, 0], 'look_obj': [357.8353038135923, 96.87003724772435, 417.51709712090314, 180.1624069586718, 0.08260907887954672], 'surf_agent': 0, 'hit_instr': [0, 0, 0, 0, 0], 'hit_obj': [0, 0, 0, 0, 0], 'sit_agent': 0, 'skateboard_agent': 0, 'carry_obj': [0, 0, 0, 0, 0], 'read_obj': [0, 0, 0, 0, 0], 'ride_instr': [0, 0, 0, 0, 0], 'jump_agent': 0, 'walk_agent': 0, 'catch_agent': 0, 'work_on_computer_agent': 0, 'read_agent': 0, 'ski_agent': 0, 'throw_agent': 0, 'snowboard_agent': 0, 'point_instr': [0, 0, 0, 0, 0], 'eat_agent': 0, 'hold_agent': 0, 'jump_instr': [0, 0, 0, 0, 0], 'work_on_computer_instr': [0, 0, 0, 0, 0], 'image_id': 468258, 'hold_obj': [0, 0, 0, 0, 0], 'drink_instr': [0, 0, 0, 0, 0], 'lay_instr': [0, 0, 0, 0, 0], 'talk_on_phone_instr': [0, 0, 0, 0, 0], 'person_box': [357.8353038135923, 96.87003724772435, 417.51709712090314, 180.1624069586718], 'ski_instr': [0, 0, 0, 0, 0], 'ride_agent': 0, 'carry_agent': 0}\n",
      "{'stand_agent': 0, 'look_agent': 0, 'cut_instr': [0, 0, 0, 0, 0], 'lay_agent': 0, 'snowboard_instr': [0, 0, 0, 0, 0], 'cut_obj': [0, 0, 0, 0, 0], 'point_agent': 0, 'surf_instr': [0, 0, 0, 0, 0], 'drink_agent': 0, 'skateboard_instr': [0, 0, 0, 0, 0], 'kick_agent': 0, 'smile_agent': 0, 'kick_obj': [0, 0, 0, 0, 0], 'run_agent': 0, 'talk_on_phone_agent': 0, 'catch_obj': [0, 0, 0, 0, 0], 'eat_obj': [0, 0, 0, 0, 0], 'hit_agent': 0, 'cut_agent': 0, 'sit_instr': [0, 0, 0, 0, 0], 'throw_obj': [0, 0, 0, 0, 0], 'eat_instr': [0, 0, 0, 0, 0], 'look_obj': [0, 0, 0, 0, 0], 'surf_agent': 0, 'hit_instr': [0, 0, 0, 0, 0], 'hit_obj': [0, 0, 0, 0, 0], 'sit_agent': 0, 'skateboard_agent': 0, 'carry_obj': [0, 0, 0, 0, 0], 'read_obj': [0, 0, 0, 0, 0], 'ride_instr': [0, 0, 0, 0, 0], 'jump_agent': 0, 'walk_agent': 0, 'catch_agent': 0, 'work_on_computer_agent': 0, 'read_agent': 0, 'ski_agent': 0, 'throw_agent': 0, 'snowboard_agent': 0, 'point_instr': [0, 0, 0, 0, 0], 'eat_agent': 0, 'hold_agent': 0.07383551004748463, 'jump_instr': [0, 0, 0, 0, 0], 'work_on_computer_instr': [0, 0, 0, 0, 0], 'image_id': 468258, 'hold_obj': [451.5943008371859, 194.5151945542057, 486.9047363318367, 253.2916214690558, 0.07383551004748463], 'drink_instr': [0, 0, 0, 0, 0], 'lay_instr': [0, 0, 0, 0, 0], 'talk_on_phone_instr': [0, 0, 0, 0, 0], 'person_box': [250.95108385497838, 104.88188606287598, 517.8928708507854, 349.38370577983807], 'ski_instr': [0, 0, 0, 0, 0], 'ride_agent': 0, 'carry_agent': 0}\n",
      "{'stand_agent': 0, 'look_agent': 0, 'cut_instr': [0, 0, 0, 0, 0], 'lay_agent': 0, 'snowboard_instr': [0, 0, 0, 0, 0], 'cut_obj': [0, 0, 0, 0, 0], 'point_agent': 0, 'surf_instr': [0, 0, 0, 0, 0], 'drink_agent': 0, 'skateboard_instr': [0, 0, 0, 0, 0], 'kick_agent': 0, 'smile_agent': 0, 'kick_obj': [0, 0, 0, 0, 0], 'run_agent': 0, 'talk_on_phone_agent': 0, 'catch_obj': [0, 0, 0, 0, 0], 'eat_obj': [0, 0, 0, 0, 0], 'hit_agent': 0, 'cut_agent': 0, 'sit_instr': [0, 0, 0, 0, 0], 'throw_obj': [0, 0, 0, 0, 0], 'eat_instr': [0, 0, 0, 0, 0], 'look_obj': [0, 0, 0, 0, 0], 'surf_agent': 0, 'hit_instr': [0, 0, 0, 0, 0], 'hit_obj': [0, 0, 0, 0, 0], 'sit_agent': 0, 'skateboard_agent': 0, 'carry_obj': [0, 0, 0, 0, 0], 'read_obj': [0, 0, 0, 0, 0], 'ride_instr': [0, 0, 0, 0, 0], 'jump_agent': 0, 'walk_agent': 0, 'catch_agent': 0, 'work_on_computer_agent': 0, 'read_agent': 0, 'ski_agent': 0, 'throw_agent': 0, 'snowboard_agent': 0, 'point_instr': [0, 0, 0, 0, 0], 'eat_agent': 0, 'hold_agent': 0.06132586009372445, 'jump_instr': [0, 0, 0, 0, 0], 'work_on_computer_instr': [0, 0, 0, 0, 0], 'image_id': 468258, 'hold_obj': [535.1208730906504, 182.206145114287, 564.0799308122376, 245.79877339402375, 0.06132586009372445], 'drink_instr': [0, 0, 0, 0, 0], 'lay_instr': [0, 0, 0, 0, 0], 'talk_on_phone_instr': [0, 0, 0, 0, 0], 'person_box': [525.3743276257891, 22.370729349147734, 639.4427558976839, 217.64210900076012], 'ski_instr': [0, 0, 0, 0, 0], 'ride_agent': 0, 'carry_agent': 0}\n",
      "{'stand_agent': 0, 'look_agent': 0, 'cut_instr': [0, 0, 0, 0, 0], 'lay_agent': 0, 'snowboard_instr': [0, 0, 0, 0, 0], 'cut_obj': [0, 0, 0, 0, 0], 'point_agent': 0, 'surf_instr': [0, 0, 0, 0, 0], 'drink_agent': 0, 'skateboard_instr': [0, 0, 0, 0, 0], 'kick_agent': 0, 'smile_agent': 0, 'kick_obj': [0, 0, 0, 0, 0], 'run_agent': 0, 'talk_on_phone_agent': 0, 'catch_obj': [0, 0, 0, 0, 0], 'eat_obj': [0, 0, 0, 0, 0], 'hit_agent': 0, 'cut_agent': 0, 'sit_instr': [0, 0, 0, 0, 0], 'throw_obj': [0, 0, 0, 0, 0], 'eat_instr': [0, 0, 0, 0, 0], 'look_obj': [0, 0, 0, 0, 0], 'surf_agent': 0, 'hit_instr': [0, 0, 0, 0, 0], 'hit_obj': [0, 0, 0, 0, 0], 'sit_agent': 0, 'skateboard_agent': 0, 'carry_obj': [0, 0, 0, 0, 0], 'read_obj': [0, 0, 0, 0, 0], 'ride_instr': [0, 0, 0, 0, 0], 'jump_agent': 0, 'walk_agent': 0, 'catch_agent': 0, 'work_on_computer_agent': 0, 'read_agent': 0, 'ski_agent': 0, 'throw_agent': 0, 'snowboard_agent': 0, 'point_instr': [0, 0, 0, 0, 0], 'eat_agent': 0, 'hold_agent': 0.0585853208481531, 'jump_instr': [0, 0, 0, 0, 0], 'work_on_computer_instr': [0, 0, 0, 0, 0], 'image_id': 468258, 'hold_obj': [357.8353038135923, 96.87003724772435, 417.51709712090314, 180.1624069586718, 0.0585853208481531], 'drink_instr': [0, 0, 0, 0, 0], 'lay_instr': [0, 0, 0, 0, 0], 'talk_on_phone_instr': [0, 0, 0, 0, 0], 'person_box': [60.150142089491446, 75.98439899387724, 465.54808941675304, 359.60990247561887], 'ski_instr': [0, 0, 0, 0, 0], 'ride_agent': 0, 'carry_agent': 0}\n",
      "{'stand_agent': 0, 'look_agent': 0, 'cut_instr': [0, 0, 0, 0, 0], 'lay_agent': 0, 'snowboard_instr': [0, 0, 0, 0, 0], 'cut_obj': [0, 0, 0, 0, 0], 'point_agent': 0, 'surf_instr': [0, 0, 0, 0, 0], 'drink_agent': 0, 'skateboard_instr': [0, 0, 0, 0, 0], 'kick_agent': 0, 'smile_agent': 0, 'kick_obj': [0, 0, 0, 0, 0], 'run_agent': 0, 'talk_on_phone_agent': 0, 'catch_obj': [0, 0, 0, 0, 0], 'eat_obj': [0, 0, 0, 0, 0], 'hit_agent': 0, 'cut_agent': 0, 'sit_instr': [0, 0, 0, 0, 0], 'throw_obj': [0, 0, 0, 0, 0], 'eat_instr': [0, 0, 0, 0, 0], 'look_obj': [0, 0, 0, 0, 0], 'surf_agent': 0, 'hit_instr': [0, 0, 0, 0, 0], 'hit_obj': [0, 0, 0, 0, 0], 'sit_agent': 0, 'skateboard_agent': 0, 'carry_obj': [0, 0, 0, 0, 0], 'read_obj': [0, 0, 0, 0, 0], 'ride_instr': [0, 0, 0, 0, 0], 'jump_agent': 0, 'walk_agent': 0, 'catch_agent': 0, 'work_on_computer_agent': 0, 'read_agent': 0, 'ski_agent': 0, 'throw_agent': 0, 'snowboard_agent': 0, 'point_instr': [0, 0, 0, 0, 0], 'eat_agent': 0, 'hold_agent': 0.05625833445724762, 'jump_instr': [0, 0, 0, 0, 0], 'work_on_computer_instr': [0, 0, 0, 0, 0], 'image_id': 468258, 'hold_obj': [299.82640842936735, 196.00714281135654, 360.2998371999523, 327.3172695410077, 0.05625833445724762], 'drink_instr': [0, 0, 0, 0, 0], 'lay_instr': [0, 0, 0, 0, 0], 'talk_on_phone_instr': [0, 0, 0, 0, 0], 'person_box': [0.0, 27.51163998095475, 269.26811495498526, 351.0924312839816], 'ski_instr': [0, 0, 0, 0, 0], 'ride_agent': 0, 'carry_agent': 0}\n",
      "{'stand_agent': 0, 'look_agent': 0.10744185393235556, 'cut_instr': [0, 0, 0, 0, 0], 'lay_agent': 0, 'snowboard_instr': [0, 0, 0, 0, 0], 'cut_obj': [0, 0, 0, 0, 0], 'point_agent': 0, 'surf_instr': [0, 0, 0, 0, 0], 'drink_agent': 0, 'skateboard_instr': [0, 0, 0, 0, 0], 'kick_agent': 0, 'smile_agent': 0, 'kick_obj': [0, 0, 0, 0, 0], 'run_agent': 0, 'talk_on_phone_agent': 0, 'catch_obj': [0, 0, 0, 0, 0], 'eat_obj': [155.14209986768373, 170.0954656038575, 279.56151781749014, 308.10365804097, 0.5521329620500123], 'hit_agent': 0, 'cut_agent': 0, 'sit_instr': [0, 0, 0, 0, 0], 'throw_obj': [0, 0, 0, 0, 0], 'eat_instr': [0, 0, 0, 0, 0], 'look_obj': [155.14209986768373, 170.0954656038575, 279.56151781749014, 308.10365804097, 0.10744185393235556], 'surf_agent': 0, 'hit_instr': [0, 0, 0, 0, 0], 'hit_obj': [0, 0, 0, 0, 0], 'sit_agent': 0, 'skateboard_agent': 0, 'carry_obj': [0, 0, 0, 0, 0], 'read_obj': [0, 0, 0, 0, 0], 'ride_instr': [0, 0, 0, 0, 0], 'jump_agent': 0, 'walk_agent': 0, 'catch_agent': 0, 'work_on_computer_agent': 0, 'read_agent': 0, 'ski_agent': 0, 'throw_agent': 0, 'snowboard_agent': 0, 'point_instr': [0, 0, 0, 0, 0], 'eat_agent': 0.5521329620500123, 'hold_agent': 0.8921217906855301, 'jump_instr': [0, 0, 0, 0, 0], 'work_on_computer_instr': [0, 0, 0, 0, 0], 'image_id': 265037, 'hold_obj': [155.14209986768373, 170.0954656038575, 279.56151781749014, 308.10365804097, 0.8921217906855301], 'drink_instr': [0, 0, 0, 0, 0], 'lay_instr': [0, 0, 0, 0, 0], 'talk_on_phone_instr': [0, 0, 0, 0, 0], 'person_box': [0.0, 10.566960660168423, 499.3163499458737, 367.54235605452163], 'ski_instr': [0, 0, 0, 0, 0], 'ride_agent': 0, 'carry_agent': 0}\n",
      "{'stand_agent': 0, 'look_agent': 0, 'cut_instr': [0, 0, 0, 0, 0], 'lay_agent': 0, 'snowboard_instr': [0, 0, 0, 0, 0], 'cut_obj': [0, 0, 0, 0, 0], 'point_agent': 0, 'surf_instr': [0, 0, 0, 0, 0], 'drink_agent': 0, 'skateboard_instr': [0, 0, 0, 0, 0], 'kick_agent': 0, 'smile_agent': 0, 'kick_obj': [0, 0, 0, 0, 0], 'run_agent': 0, 'talk_on_phone_agent': 0, 'catch_obj': [0, 0, 0, 0, 0], 'eat_obj': [155.14209986768373, 170.0954656038575, 279.56151781749014, 308.10365804097, 0.23031108097150385], 'hit_agent': 0, 'cut_agent': 0, 'sit_instr': [0, 0, 0, 0, 0], 'throw_obj': [0, 0, 0, 0, 0], 'eat_instr': [0, 0, 0, 0, 0], 'look_obj': [0, 0, 0, 0, 0], 'surf_agent': 0, 'hit_instr': [0, 0, 0, 0, 0], 'hit_obj': [0, 0, 0, 0, 0], 'sit_agent': 0, 'skateboard_agent': 0, 'carry_obj': [0, 0, 0, 0, 0], 'read_obj': [0, 0, 0, 0, 0], 'ride_instr': [0, 0, 0, 0, 0], 'jump_agent': 0, 'walk_agent': 0, 'catch_agent': 0, 'work_on_computer_agent': 0, 'read_agent': 0, 'ski_agent': 0, 'throw_agent': 0, 'snowboard_agent': 0, 'point_instr': [0, 0, 0, 0, 0], 'eat_agent': 0.23031108097150385, 'hold_agent': 0.27030215434024846, 'jump_instr': [0, 0, 0, 0, 0], 'work_on_computer_instr': [0, 0, 0, 0, 0], 'image_id': 265037, 'hold_obj': [155.14209986768373, 170.0954656038575, 279.56151781749014, 308.10365804097, 0.27030215434024846], 'drink_instr': [0, 0, 0, 0, 0], 'lay_instr': [0, 0, 0, 0, 0], 'talk_on_phone_instr': [0, 0, 0, 0, 0], 'person_box': [5.7350647290871315, 140.0952858594347, 300.08935333290765, 368.55287842164523], 'ski_instr': [0, 0, 0, 0, 0], 'ride_agent': 0, 'carry_agent': 0}\n",
      "{'stand_agent': 0, 'look_agent': 0, 'cut_instr': [0, 0, 0, 0, 0], 'lay_agent': 0, 'snowboard_instr': [0, 0, 0, 0, 0], 'cut_obj': [0, 0, 0, 0, 0], 'point_agent': 0, 'surf_instr': [0, 0, 0, 0, 0], 'drink_agent': 0, 'skateboard_instr': [0, 0, 0, 0, 0], 'kick_agent': 0, 'smile_agent': 0, 'kick_obj': [0, 0, 0, 0, 0], 'run_agent': 0, 'talk_on_phone_agent': 0, 'catch_obj': [0, 0, 0, 0, 0], 'eat_obj': [155.14209986768373, 170.0954656038575, 279.56151781749014, 308.10365804097, 0.06848931210677851], 'hit_agent': 0, 'cut_agent': 0, 'sit_instr': [0, 0, 0, 0, 0], 'throw_obj': [0, 0, 0, 0, 0], 'eat_instr': [0, 0, 0, 0, 0], 'look_obj': [0, 0, 0, 0, 0], 'surf_agent': 0, 'hit_instr': [0, 0, 0, 0, 0], 'hit_obj': [0, 0, 0, 0, 0], 'sit_agent': 0, 'skateboard_agent': 0, 'carry_obj': [0, 0, 0, 0, 0], 'read_obj': [0, 0, 0, 0, 0], 'ride_instr': [0, 0, 0, 0, 0], 'jump_agent': 0, 'walk_agent': 0, 'catch_agent': 0, 'work_on_computer_agent': 0, 'read_agent': 0, 'ski_agent': 0, 'throw_agent': 0, 'snowboard_agent': 0, 'point_instr': [0, 0, 0, 0, 0], 'eat_agent': 0.06848931210677851, 'hold_agent': 0.05194511347746496, 'jump_instr': [0, 0, 0, 0, 0], 'work_on_computer_instr': [0, 0, 0, 0, 0], 'image_id': 265037, 'hold_obj': [155.14209986768373, 170.0954656038575, 279.56151781749014, 308.10365804097, 0.05194511347746496], 'drink_instr': [0, 0, 0, 0, 0], 'lay_instr': [0, 0, 0, 0, 0], 'talk_on_phone_instr': [0, 0, 0, 0, 0], 'person_box': [11.204657573706864, 10.171408304939078, 337.41036003548953, 279.4581762403542], 'ski_instr': [0, 0, 0, 0, 0], 'ride_agent': 0, 'carry_agent': 0}\n",
      "{'stand_agent': 0, 'look_agent': 0, 'cut_instr': [0, 0, 0, 0, 0], 'lay_agent': 0, 'snowboard_instr': [0, 0, 0, 0, 0], 'cut_obj': [0, 0, 0, 0, 0], 'point_agent': 0, 'surf_instr': [0, 0, 0, 0, 0], 'drink_agent': 0, 'skateboard_instr': [0, 0, 0, 0, 0], 'kick_agent': 0, 'smile_agent': 0, 'kick_obj': [0, 0, 0, 0, 0], 'run_agent': 0, 'talk_on_phone_agent': 0.20275748325715456, 'catch_obj': [0, 0, 0, 0, 0], 'eat_obj': [0, 0, 0, 0, 0], 'hit_agent': 0, 'cut_agent': 0, 'sit_instr': [0, 0, 0, 0, 0], 'throw_obj': [0, 0, 0, 0, 0], 'eat_instr': [0, 0, 0, 0, 0], 'look_obj': [0, 0, 0, 0, 0], 'surf_agent': 0, 'hit_instr': [0, 0, 0, 0, 0], 'hit_obj': [0, 0, 0, 0, 0], 'sit_agent': 0, 'skateboard_agent': 0, 'carry_obj': [0, 0, 0, 0, 0], 'read_obj': [0, 0, 0, 0, 0], 'ride_instr': [0, 0, 0, 0, 0], 'jump_agent': 0, 'walk_agent': 0, 'catch_agent': 0, 'work_on_computer_agent': 0, 'read_agent': 0, 'ski_agent': 0, 'throw_agent': 0, 'snowboard_agent': 0, 'point_instr': [0, 0, 0, 0, 0], 'eat_agent': 0, 'hold_agent': 0.20215713382521788, 'jump_instr': [0, 0, 0, 0, 0], 'work_on_computer_instr': [0, 0, 0, 0, 0], 'image_id': 290522, 'hold_obj': [215.48950385379604, 256.080720620433, 263.55467864611563, 306.29978523669763, 0.20215713382521788], 'drink_instr': [0, 0, 0, 0, 0], 'lay_instr': [0, 0, 0, 0, 0], 'talk_on_phone_instr': [215.48950385379604, 256.080720620433, 263.55467864611563, 306.29978523669763, 0.20275748325715456], 'person_box': [42.413860437927866, 39.846364743244, 433.85080869153785, 374.53125], 'ski_instr': [0, 0, 0, 0, 0], 'ride_agent': 0, 'carry_agent': 0}\n",
      "{'stand_agent': 0, 'look_agent': 0.10095104676463898, 'cut_instr': [0, 0, 0, 0, 0], 'lay_agent': 0, 'snowboard_instr': [0, 0, 0, 0, 0], 'cut_obj': [0, 0, 0, 0, 0], 'point_agent': 0, 'surf_instr': [0, 0, 0, 0, 0], 'drink_agent': 0, 'skateboard_instr': [0, 0, 0, 0, 0], 'kick_agent': 0, 'smile_agent': 0, 'kick_obj': [0, 0, 0, 0, 0], 'run_agent': 0, 'talk_on_phone_agent': 0, 'catch_obj': [0, 0, 0, 0, 0], 'eat_obj': [0, 0, 0, 0, 0], 'hit_agent': 0, 'cut_agent': 0, 'sit_instr': [0, 0, 0, 0, 0], 'throw_obj': [0, 0, 0, 0, 0], 'eat_instr': [0, 0, 0, 0, 0], 'look_obj': [427.8339105406799, 220.9052327690999, 484.1489695863317, 316.8988339549072, 0.10095104676463898], 'surf_agent': 0, 'hit_instr': [0, 0, 0, 0, 0], 'hit_obj': [0, 0, 0, 0, 0], 'sit_agent': 0, 'skateboard_agent': 0, 'carry_obj': [0, 0, 0, 0, 0], 'read_obj': [0, 0, 0, 0, 0], 'ride_instr': [0, 0, 0, 0, 0], 'jump_agent': 0, 'walk_agent': 0, 'catch_agent': 0, 'work_on_computer_agent': 0, 'read_agent': 0, 'ski_agent': 0, 'throw_agent': 0, 'snowboard_agent': 0, 'point_instr': [0, 0, 0, 0, 0], 'eat_agent': 0, 'hold_agent': 0, 'jump_instr': [0, 0, 0, 0, 0], 'work_on_computer_instr': [0, 0, 0, 0, 0], 'image_id': 126001, 'hold_obj': [0, 0, 0, 0, 0], 'drink_instr': [0, 0, 0, 0, 0], 'lay_instr': [0, 0, 0, 0, 0], 'talk_on_phone_instr': [0, 0, 0, 0, 0], 'person_box': [602.7513631933971, 299.7604088348057, 637.633480418739, 473.84043011909125], 'ski_instr': [0, 0, 0, 0, 0], 'ride_agent': 0, 'carry_agent': 0}\n",
      "{'stand_agent': 0, 'look_agent': 0, 'cut_instr': [0, 0, 0, 0, 0], 'lay_agent': 0, 'snowboard_instr': [0, 0, 0, 0, 0], 'cut_obj': [0, 0, 0, 0, 0], 'point_agent': 0, 'surf_instr': [0, 0, 0, 0, 0], 'drink_agent': 0, 'skateboard_instr': [0, 0, 0, 0, 0], 'kick_agent': 0, 'smile_agent': 0, 'kick_obj': [0, 0, 0, 0, 0], 'run_agent': 0, 'talk_on_phone_agent': 0, 'catch_obj': [0, 0, 0, 0, 0], 'eat_obj': [0, 0, 0, 0, 0], 'hit_agent': 0, 'cut_agent': 0, 'sit_instr': [301.6889953682566, 299.09892431392797, 594.0049303434932, 478.38357785505025, 0.0907437844272629], 'throw_obj': [0, 0, 0, 0, 0], 'eat_instr': [0, 0, 0, 0, 0], 'look_obj': [0, 0, 0, 0, 0], 'surf_agent': 0, 'hit_instr': [0, 0, 0, 0, 0], 'hit_obj': [0, 0, 0, 0, 0], 'sit_agent': 0.0907437844272629, 'skateboard_agent': 0, 'carry_obj': [0, 0, 0, 0, 0], 'read_obj': [0, 0, 0, 0, 0], 'ride_instr': [215.43740548761676, 356.23129732354863, 558.0486094239157, 478.6042235760041, 0.057007715789831666], 'jump_agent': 0, 'walk_agent': 0, 'catch_agent': 0, 'work_on_computer_agent': 0, 'read_agent': 0, 'ski_agent': 0, 'throw_agent': 0, 'snowboard_agent': 0, 'point_instr': [0, 0, 0, 0, 0], 'eat_agent': 0, 'hold_agent': 0, 'jump_instr': [0, 0, 0, 0, 0], 'work_on_computer_instr': [0, 0, 0, 0, 0], 'image_id': 126001, 'hold_obj': [0, 0, 0, 0, 0], 'drink_instr': [0, 0, 0, 0, 0], 'lay_instr': [0, 0, 0, 0, 0], 'talk_on_phone_instr': [0, 0, 0, 0, 0], 'person_box': [415.2153766770067, 231.20111162000708, 547.9726645946016, 412.5739211315484], 'ski_instr': [0, 0, 0, 0, 0], 'ride_agent': 0.057007715789831666, 'carry_agent': 0}\n",
      "{'stand_agent': 0, 'look_agent': 0, 'cut_instr': [0, 0, 0, 0, 0], 'lay_agent': 0, 'snowboard_instr': [0, 0, 0, 0, 0], 'cut_obj': [0, 0, 0, 0, 0], 'point_agent': 0, 'surf_instr': [0, 0, 0, 0, 0], 'drink_agent': 0, 'skateboard_instr': [0, 0, 0, 0, 0], 'kick_agent': 0, 'smile_agent': 0, 'kick_obj': [0, 0, 0, 0, 0], 'run_agent': 0, 'talk_on_phone_agent': 0, 'catch_obj': [0, 0, 0, 0, 0], 'eat_obj': [0, 0, 0, 0, 0], 'hit_agent': 0, 'cut_agent': 0, 'sit_instr': [301.6889953682566, 299.09892431392797, 594.0049303434932, 478.38357785505025, 0.08811829420980126], 'throw_obj': [0, 0, 0, 0, 0], 'eat_instr': [0, 0, 0, 0, 0], 'look_obj': [0, 0, 0, 0, 0], 'surf_agent': 0, 'hit_instr': [0, 0, 0, 0, 0], 'hit_obj': [0, 0, 0, 0, 0], 'sit_agent': 0.08811829420980126, 'skateboard_agent': 0, 'carry_obj': [0, 0, 0, 0, 0], 'read_obj': [0, 0, 0, 0, 0], 'ride_instr': [0, 0, 0, 0, 0], 'jump_agent': 0, 'walk_agent': 0, 'catch_agent': 0, 'work_on_computer_agent': 0, 'read_agent': 0, 'ski_agent': 0, 'throw_agent': 0, 'snowboard_agent': 0, 'point_instr': [0, 0, 0, 0, 0], 'eat_agent': 0, 'hold_agent': 0, 'jump_instr': [0, 0, 0, 0, 0], 'work_on_computer_instr': [0, 0, 0, 0, 0], 'image_id': 126001, 'hold_obj': [0, 0, 0, 0, 0], 'drink_instr': [0, 0, 0, 0, 0], 'lay_instr': [0, 0, 0, 0, 0], 'talk_on_phone_instr': [0, 0, 0, 0, 0], 'person_box': [331.91336426948595, 220.67104308498787, 534.771934462101, 433.3343831023717], 'ski_instr': [0, 0, 0, 0, 0], 'ride_agent': 0, 'carry_agent': 0}\n",
      "{'stand_agent': 0, 'look_agent': 0, 'cut_instr': [0, 0, 0, 0, 0], 'lay_agent': 0, 'snowboard_instr': [0, 0, 0, 0, 0], 'cut_obj': [0, 0, 0, 0, 0], 'point_agent': 0, 'surf_instr': [0, 0, 0, 0, 0], 'drink_agent': 0, 'skateboard_instr': [0, 0, 0, 0, 0], 'kick_agent': 0, 'smile_agent': 0, 'kick_obj': [0, 0, 0, 0, 0], 'run_agent': 0, 'talk_on_phone_agent': 0, 'catch_obj': [0, 0, 0, 0, 0], 'eat_obj': [0, 0, 0, 0, 0], 'hit_agent': 0, 'cut_agent': 0, 'sit_instr': [146.3759561171917, 359.63560917170486, 320.16853289682854, 475.9790199933125, 0.0810412240011358], 'throw_obj': [0, 0, 0, 0, 0], 'eat_instr': [0, 0, 0, 0, 0], 'look_obj': [0, 0, 0, 0, 0], 'surf_agent': 0, 'hit_instr': [0, 0, 0, 0, 0], 'hit_obj': [0, 0, 0, 0, 0], 'sit_agent': 0.0810412240011358, 'skateboard_agent': 0, 'carry_obj': [0, 0, 0, 0, 0], 'read_obj': [0, 0, 0, 0, 0], 'ride_instr': [0, 0, 0, 0, 0], 'jump_agent': 0, 'walk_agent': 0, 'catch_agent': 0, 'work_on_computer_agent': 0, 'read_agent': 0, 'ski_agent': 0, 'throw_agent': 0, 'snowboard_agent': 0, 'point_instr': [0, 0, 0, 0, 0], 'eat_agent': 0, 'hold_agent': 0.05569922954232832, 'jump_instr': [0, 0, 0, 0, 0], 'work_on_computer_instr': [0, 0, 0, 0, 0], 'image_id': 126001, 'hold_obj': [146.3759561171917, 359.63560917170486, 320.16853289682854, 475.9790199933125, 0.05569922954232832], 'drink_instr': [0, 0, 0, 0, 0], 'lay_instr': [0, 0, 0, 0, 0], 'talk_on_phone_instr': [0, 0, 0, 0, 0], 'person_box': [180.8950984769999, 260.87362774349424, 311.91794915013054, 467.7264445690317], 'ski_instr': [0, 0, 0, 0, 0], 'ride_agent': 0, 'carry_agent': 0}\n",
      "{'stand_agent': 0, 'look_agent': 0, 'cut_instr': [0, 0, 0, 0, 0], 'lay_agent': 0, 'snowboard_instr': [0, 0, 0, 0, 0], 'cut_obj': [0, 0, 0, 0, 0], 'point_agent': 0, 'surf_instr': [0, 0, 0, 0, 0], 'drink_agent': 0, 'skateboard_instr': [0, 0, 0, 0, 0], 'kick_agent': 0, 'smile_agent': 0, 'kick_obj': [0, 0, 0, 0, 0], 'run_agent': 0, 'talk_on_phone_agent': 0, 'catch_obj': [0, 0, 0, 0, 0], 'eat_obj': [0, 0, 0, 0, 0], 'hit_agent': 0, 'cut_agent': 0, 'sit_instr': [558.4506140428899, 183.2408064091449, 584.559746709193, 220.00975627853268, 0.06966920659515734], 'throw_obj': [0, 0, 0, 0, 0], 'eat_instr': [0, 0, 0, 0, 0], 'look_obj': [0, 0, 0, 0, 0], 'surf_agent': 0, 'hit_instr': [0, 0, 0, 0, 0], 'hit_obj': [0, 0, 0, 0, 0], 'sit_agent': 0.06966920659515734, 'skateboard_agent': 0, 'carry_obj': [0, 0, 0, 0, 0], 'read_obj': [0, 0, 0, 0, 0], 'ride_instr': [0, 0, 0, 0, 0], 'jump_agent': 0, 'walk_agent': 0, 'catch_agent': 0, 'work_on_computer_agent': 0, 'read_agent': 0, 'ski_agent': 0, 'throw_agent': 0, 'snowboard_agent': 0, 'point_instr': [0, 0, 0, 0, 0], 'eat_agent': 0, 'hold_agent': 0, 'jump_instr': [0, 0, 0, 0, 0], 'work_on_computer_instr': [0, 0, 0, 0, 0], 'image_id': 126001, 'hold_obj': [0, 0, 0, 0, 0], 'drink_instr': [0, 0, 0, 0, 0], 'lay_instr': [0, 0, 0, 0, 0], 'talk_on_phone_instr': [0, 0, 0, 0, 0], 'person_box': [558.4506140428899, 183.2408064091449, 584.559746709193, 220.00975627853268], 'ski_instr': [0, 0, 0, 0, 0], 'ride_agent': 0, 'carry_agent': 0}\n",
      "{'stand_agent': 0, 'look_agent': 0.06648116684184857, 'cut_instr': [0, 0, 0, 0, 0], 'lay_agent': 0, 'snowboard_instr': [0, 0, 0, 0, 0], 'cut_obj': [0, 0, 0, 0, 0], 'point_agent': 0, 'surf_instr': [0, 0, 0, 0, 0], 'drink_agent': 0, 'skateboard_instr': [0, 0, 0, 0, 0], 'kick_agent': 0, 'smile_agent': 0, 'kick_obj': [0, 0, 0, 0, 0], 'run_agent': 0, 'talk_on_phone_agent': 0, 'catch_obj': [0, 0, 0, 0, 0], 'eat_obj': [0, 0, 0, 0, 0], 'hit_agent': 0, 'cut_agent': 0, 'sit_instr': [0, 0, 0, 0, 0], 'throw_obj': [0, 0, 0, 0, 0], 'eat_instr': [0, 0, 0, 0, 0], 'look_obj': [558.4506140428899, 183.2408064091449, 584.559746709193, 220.00975627853268, 0.06648116684184857], 'surf_agent': 0, 'hit_instr': [0, 0, 0, 0, 0], 'hit_obj': [0, 0, 0, 0, 0], 'sit_agent': 0, 'skateboard_agent': 0, 'carry_obj': [0, 0, 0, 0, 0], 'read_obj': [0, 0, 0, 0, 0], 'ride_instr': [0, 0, 0, 0, 0], 'jump_agent': 0, 'walk_agent': 0, 'catch_agent': 0, 'work_on_computer_agent': 0, 'read_agent': 0, 'ski_agent': 0, 'throw_agent': 0, 'snowboard_agent': 0, 'point_instr': [0, 0, 0, 0, 0], 'eat_agent': 0, 'hold_agent': 0, 'jump_instr': [0, 0, 0, 0, 0], 'work_on_computer_instr': [0, 0, 0, 0, 0], 'image_id': 126001, 'hold_obj': [0, 0, 0, 0, 0], 'drink_instr': [0, 0, 0, 0, 0], 'lay_instr': [0, 0, 0, 0, 0], 'talk_on_phone_instr': [0, 0, 0, 0, 0], 'person_box': [592.5133899920843, 182.5776429434853, 625.0653669065711, 230.5891415638184], 'ski_instr': [0, 0, 0, 0, 0], 'ride_agent': 0, 'carry_agent': 0}\n",
      "{'stand_agent': 0, 'look_agent': 0, 'cut_instr': [0, 0, 0, 0, 0], 'lay_agent': 0, 'snowboard_instr': [0, 0, 0, 0, 0], 'cut_obj': [0, 0, 0, 0, 0], 'point_agent': 0, 'surf_instr': [0, 0, 0, 0, 0], 'drink_agent': 0, 'skateboard_instr': [0, 0, 0, 0, 0], 'kick_agent': 0, 'smile_agent': 0, 'kick_obj': [0, 0, 0, 0, 0], 'run_agent': 0, 'talk_on_phone_agent': 0, 'catch_obj': [0, 0, 0, 0, 0], 'eat_obj': [0, 0, 0, 0, 0], 'hit_agent': 0, 'cut_agent': 0, 'sit_instr': [0, 0, 0, 0, 0], 'throw_obj': [0, 0, 0, 0, 0], 'eat_instr': [0, 0, 0, 0, 0], 'look_obj': [0, 0, 0, 0, 0], 'surf_agent': 0, 'hit_instr': [0, 0, 0, 0, 0], 'hit_obj': [0, 0, 0, 0, 0], 'sit_agent': 0, 'skateboard_agent': 0, 'carry_obj': [0, 0, 0, 0, 0], 'read_obj': [0, 0, 0, 0, 0], 'ride_instr': [592.5133899920843, 182.5776429434853, 625.0653669065711, 230.5891415638184, 0.05616323952818144], 'jump_agent': 0, 'walk_agent': 0, 'catch_agent': 0, 'work_on_computer_agent': 0, 'read_agent': 0, 'ski_agent': 0, 'throw_agent': 0, 'snowboard_agent': 0, 'point_instr': [0, 0, 0, 0, 0], 'eat_agent': 0, 'hold_agent': 0.055303925629799654, 'jump_instr': [0, 0, 0, 0, 0], 'work_on_computer_instr': [0, 0, 0, 0, 0], 'image_id': 126001, 'hold_obj': [596.7332928815235, 172.50096509329387, 607.0102764099531, 182.71697822815392, 0.055303925629799654], 'drink_instr': [0, 0, 0, 0, 0], 'lay_instr': [0, 0, 0, 0, 0], 'talk_on_phone_instr': [0, 0, 0, 0, 0], 'person_box': [597.2208854966391, 171.7935160924172, 607.1870001496522, 195.13035788099813], 'ski_instr': [0, 0, 0, 0, 0], 'ride_agent': 0.05616323952818144, 'carry_agent': 0}\n",
      "{'stand_agent': 0, 'look_agent': 0.055712985940248476, 'cut_instr': [0, 0, 0, 0, 0], 'lay_agent': 0, 'snowboard_instr': [0, 0, 0, 0, 0], 'cut_obj': [0, 0, 0, 0, 0], 'point_agent': 0, 'surf_instr': [0, 0, 0, 0, 0], 'drink_agent': 0, 'skateboard_instr': [0, 0, 0, 0, 0], 'kick_agent': 0, 'smile_agent': 0, 'kick_obj': [0, 0, 0, 0, 0], 'run_agent': 0, 'talk_on_phone_agent': 0, 'catch_obj': [0, 0, 0, 0, 0], 'eat_obj': [0, 0, 0, 0, 0], 'hit_agent': 0, 'cut_agent': 0, 'sit_instr': [0, 0, 0, 0, 0], 'throw_obj': [0, 0, 0, 0, 0], 'eat_instr': [0, 0, 0, 0, 0], 'look_obj': [578.2241123782128, 174.4237865955684, 598.4830256387509, 209.95584092709132, 0.055712985940248476], 'surf_agent': 0, 'hit_instr': [0, 0, 0, 0, 0], 'hit_obj': [0, 0, 0, 0, 0], 'sit_agent': 0, 'skateboard_agent': 0, 'carry_obj': [0, 0, 0, 0, 0], 'read_obj': [0, 0, 0, 0, 0], 'ride_instr': [0, 0, 0, 0, 0], 'jump_agent': 0, 'walk_agent': 0, 'catch_agent': 0, 'work_on_computer_agent': 0, 'read_agent': 0, 'ski_agent': 0, 'throw_agent': 0, 'snowboard_agent': 0, 'point_instr': [0, 0, 0, 0, 0], 'eat_agent': 0, 'hold_agent': 0, 'jump_instr': [0, 0, 0, 0, 0], 'work_on_computer_instr': [0, 0, 0, 0, 0], 'image_id': 126001, 'hold_obj': [0, 0, 0, 0, 0], 'drink_instr': [0, 0, 0, 0, 0], 'lay_instr': [0, 0, 0, 0, 0], 'talk_on_phone_instr': [0, 0, 0, 0, 0], 'person_box': [578.2241123782128, 174.4237865955684, 598.4830256387509, 209.95584092709132], 'ski_instr': [0, 0, 0, 0, 0], 'ride_agent': 0, 'carry_agent': 0}\n"
     ]
    }
   ],
   "source": [
    "for i in range(20):\n",
    "    print prediction_list[i]"
   ]
  },
  {
   "cell_type": "code",
   "execution_count": 5,
   "metadata": {},
   "outputs": [],
   "source": [
    "pickle_out = open(\"detections.pkl\",\"wb\")\n",
    "pickle.dump(prediction_list, pickle_out)\n",
    "pickle_out.close()"
   ]
  },
  {
   "cell_type": "code",
   "execution_count": 6,
   "metadata": {},
   "outputs": [
    {
     "name": "stdout",
     "output_type": "stream",
     "text": [
      "loading annotations into memory...\n",
      "Done (t=2.65s)\n",
      "creating index...\n",
      "index created!\n",
      "loading vcoco annotations...\n"
     ]
    }
   ],
   "source": [
    "from vsrl_eval import VCOCOeval\n",
    "\n",
    "vsrl_annot_file = 'data/vcoco/vcoco_val.json'\n",
    "coco_file = 'data/instances_vcoco_all_2017.json'\n",
    "split_file = 'data/splits/vcoco_val.ids'\n",
    "det_file = 'detections.pkl'\n",
    "vcocoeval = VCOCOeval(vsrl_annot_file, coco_file, split_file)\n"
   ]
  },
  {
   "cell_type": "code",
   "execution_count": 7,
   "metadata": {},
   "outputs": [
    {
     "name": "stdout",
     "output_type": "stream",
     "text": [
      "---------Reporting Role AP (%)------------------\n",
      "               hold-obj: AP = 19.13 (#pos = 2163)\n",
      "              sit-instr: AP = 14.95 (#pos = 1054)\n",
      "             ride-instr: AP = 41.39 (#pos = 236)\n",
      "               look-obj: AP = 18.96 (#pos = 2055)\n",
      "              hit-instr: AP = 43.52 (#pos = 203)\n",
      "                hit-obj: AP = 18.06 (#pos = 203)\n",
      "                eat-obj: AP = 17.31 (#pos = 376)\n",
      "              eat-instr: AP = 3.64 (#pos = 376)\n",
      "             jump-instr: AP = 48.39 (#pos = 381)\n",
      "              lay-instr: AP = 13.56 (#pos = 228)\n",
      "    talk_on_phone-instr: AP = 17.57 (#pos = 187)\n",
      "              carry-obj: AP = 22.57 (#pos = 262)\n",
      "              throw-obj: AP = 20.90 (#pos = 141)\n",
      "              catch-obj: AP = 21.30 (#pos = 161)\n",
      "              cut-instr: AP = 5.11 (#pos = 173)\n",
      "                cut-obj: AP = 9.85 (#pos = 173)\n",
      " work_on_computer-instr: AP = 32.97 (#pos = 248)\n",
      "              ski-instr: AP = 27.71 (#pos = 310)\n",
      "             surf-instr: AP = 54.22 (#pos = 259)\n",
      "       skateboard-instr: AP = 70.50 (#pos = 269)\n",
      "            drink-instr: AP = 11.71 (#pos = 70)\n",
      "               kick-obj: AP = 53.78 (#pos = 77)\n",
      "            point-instr: AP = 0.17 (#pos = 23)\n",
      "               read-obj: AP = 2.57 (#pos = 65)\n",
      "        snowboard-instr: AP = 57.13 (#pos = 212)\n",
      "Average Role [scenario_1] AP = 25.88\n",
      "---------------------------------------------\n",
      "47 125\n",
      "---------Reporting Role AP (%)------------------\n",
      "               hold-obj: AP = 24.19 (#pos = 2163)\n",
      "              sit-instr: AP = 22.73 (#pos = 1054)\n",
      "             ride-instr: AP = 42.62 (#pos = 236)\n",
      "               look-obj: AP = 24.46 (#pos = 2055)\n",
      "              hit-instr: AP = 48.50 (#pos = 203)\n",
      "                hit-obj: AP = 21.75 (#pos = 203)\n",
      "                eat-obj: AP = 30.35 (#pos = 376)\n",
      "              eat-instr: AP = 10.13 (#pos = 376)\n",
      "             jump-instr: AP = 49.03 (#pos = 381)\n",
      "              lay-instr: AP = 20.33 (#pos = 228)\n",
      "    talk_on_phone-instr: AP = 18.64 (#pos = 187)\n",
      "              carry-obj: AP = 24.07 (#pos = 262)\n",
      "              throw-obj: AP = 21.85 (#pos = 141)\n",
      "              catch-obj: AP = 22.31 (#pos = 161)\n",
      "              cut-instr: AP = 6.49 (#pos = 173)\n",
      "                cut-obj: AP = 13.07 (#pos = 173)\n",
      " work_on_computer-instr: AP = 38.59 (#pos = 248)\n",
      "              ski-instr: AP = 33.12 (#pos = 310)\n",
      "             surf-instr: AP = 55.22 (#pos = 259)\n",
      "       skateboard-instr: AP = 71.11 (#pos = 269)\n",
      "            drink-instr: AP = 11.71 (#pos = 70)\n",
      "               kick-obj: AP = 58.11 (#pos = 77)\n",
      "            point-instr: AP = 0.17 (#pos = 23)\n",
      "               read-obj: AP = 2.57 (#pos = 65)\n",
      "        snowboard-instr: AP = 59.29 (#pos = 212)\n",
      "Average Role [scenario_2] AP = 29.22\n",
      "---------------------------------------------\n",
      "47 125\n"
     ]
    }
   ],
   "source": [
    "fp, fn =vcocoeval._do_eval(det_file, ovr_thresh=0.5)"
   ]
  },
  {
   "cell_type": "code",
   "execution_count": 8,
   "metadata": {},
   "outputs": [],
   "source": [
    "pickle_out = open(\"fp_fn_samples.pkl\",\"wb\")\n",
    "pickle.dump([fp, fn], pickle_out)\n",
    "pickle_out.close()"
   ]
  },
  {
   "cell_type": "code",
   "execution_count": 9,
   "metadata": {},
   "outputs": [
    {
     "name": "stdout",
     "output_type": "stream",
     "text": [
      "<type 'list'>\n"
     ]
    }
   ],
   "source": [
    "print type(fp[0])"
   ]
  },
  {
   "cell_type": "code",
   "execution_count": 10,
   "metadata": {},
   "outputs": [
    {
     "name": "stdout",
     "output_type": "stream",
     "text": [
      "<type 'list'>\n",
      "<type 'int'>\n",
      "<type 'list'>\n",
      "<type 'list'>\n",
      "<type 'str'>\n",
      "<type 'float'>\n",
      "<type 'int'>\n",
      "<type 'list'>\n",
      "<type 'list'>\n",
      "<type 'str'>\n",
      "<type 'float'>\n"
     ]
    }
   ],
   "source": [
    "print type(fp)\n",
    "for i in fp[-1]:\n",
    "    print type(i)\n",
    "for j in fn[0]:\n",
    "    print type(j)"
   ]
  },
  {
   "cell_type": "code",
   "execution_count": 11,
   "metadata": {},
   "outputs": [
    {
     "name": "stdout",
     "output_type": "stream",
     "text": [
      "<type 'int'>\n"
     ]
    },
    {
     "ename": "TypeError",
     "evalue": "float() argument must be a string or a number",
     "output_type": "error",
     "traceback": [
      "\u001b[0;31m---------------------------------------------------------------------------\u001b[0m",
      "\u001b[0;31mTypeError\u001b[0m                                 Traceback (most recent call last)",
      "\u001b[0;32m<ipython-input-11-b01e45d4dd91>\u001b[0m in \u001b[0;36m<module>\u001b[0;34m()\u001b[0m\n\u001b[1;32m      1\u001b[0m \u001b[0ma\u001b[0m \u001b[0;34m=\u001b[0m \u001b[0;34m[\u001b[0m\u001b[0;36m0\u001b[0m\u001b[0;34m,\u001b[0m \u001b[0;36m3\u001b[0m\u001b[0;34m]\u001b[0m\u001b[0;34m\u001b[0m\u001b[0m\n\u001b[1;32m      2\u001b[0m \u001b[0;32mprint\u001b[0m \u001b[0mtype\u001b[0m\u001b[0;34m(\u001b[0m\u001b[0ma\u001b[0m\u001b[0;34m[\u001b[0m\u001b[0;36m0\u001b[0m\u001b[0;34m]\u001b[0m\u001b[0;34m)\u001b[0m\u001b[0;34m\u001b[0m\u001b[0m\n\u001b[0;32m----> 3\u001b[0;31m \u001b[0ma\u001b[0m \u001b[0;34m=\u001b[0m \u001b[0mfloat\u001b[0m\u001b[0;34m(\u001b[0m\u001b[0ma\u001b[0m\u001b[0;34m)\u001b[0m\u001b[0;34m\u001b[0m\u001b[0m\n\u001b[0m\u001b[1;32m      4\u001b[0m \u001b[0;32mprint\u001b[0m \u001b[0mtype\u001b[0m\u001b[0;34m(\u001b[0m\u001b[0ma\u001b[0m\u001b[0;34m[\u001b[0m\u001b[0;36m0\u001b[0m\u001b[0;34m]\u001b[0m\u001b[0;34m)\u001b[0m\u001b[0;34m\u001b[0m\u001b[0m\n",
      "\u001b[0;31mTypeError\u001b[0m: float() argument must be a string or a number"
     ]
    }
   ],
   "source": [
    "a = [0, 3]\n",
    "print type(a[0])\n",
    "a = float(a)\n",
    "print type(a[0])"
   ]
  },
  {
   "cell_type": "code",
   "execution_count": null,
   "metadata": {},
   "outputs": [],
   "source": []
  }
 ],
 "metadata": {
  "kernelspec": {
   "display_name": "Python 2",
   "language": "python",
   "name": "python2"
  },
  "language_info": {
   "codemirror_mode": {
    "name": "ipython",
    "version": 2
   },
   "file_extension": ".py",
   "mimetype": "text/x-python",
   "name": "python",
   "nbconvert_exporter": "python",
   "pygments_lexer": "ipython2",
   "version": "2.7.12"
  }
 },
 "nbformat": 4,
 "nbformat_minor": 2
}
