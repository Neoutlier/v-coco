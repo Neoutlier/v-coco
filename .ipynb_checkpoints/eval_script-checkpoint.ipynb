{
 "cells": [
  {
   "cell_type": "code",
   "execution_count": 1,
   "metadata": {},
   "outputs": [
    {
     "name": "stdout",
     "output_type": "stream",
     "text": [
      "added coco/PythonAPI to pythonpath\n",
      "{1: 'hold', 2: 'stand', 3: 'sit', 4: 'ride', 5: 'walk', 6: 'look', 7: 'hit', 8: 'eat', 9: 'jump', 10: 'lay', 11: 'talk_on_phone', 12: 'carry', 13: 'throw', 14: 'catch', 15: 'cut', 16: 'run', 17: 'work_on_computer', 18: 'ski', 19: 'surf', 20: 'skateboard', 21: 'smile', 22: 'drink', 23: 'kick', 24: 'point', 25: 'read', 26: 'snowboard'}\n",
      "{1: ['agent', 'obj'], 2: ['agent'], 3: ['agent', 'instr'], 4: ['agent', 'instr'], 5: ['agent'], 6: ['agent', 'obj'], 7: ['agent', 'instr', 'obj'], 8: ['agent', 'obj', 'instr'], 9: ['agent', 'instr'], 10: ['agent', 'instr'], 11: ['agent', 'instr'], 12: ['agent', 'obj'], 13: ['agent', 'obj'], 14: ['agent', 'obj'], 15: ['agent', 'instr', 'obj'], 16: ['agent'], 17: ['agent', 'instr'], 18: ['agent', 'instr'], 19: ['agent', 'instr'], 20: ['agent', 'instr'], 21: ['agent'], 22: ['agent', 'instr'], 23: ['agent', 'obj'], 24: ['agent', 'instr'], 25: ['agent', 'obj'], 26: ['agent', 'instr']}\n"
     ]
    }
   ],
   "source": [
    "import __init__\n",
    "import vsrl_utils as vu\n",
    "import numpy as np\n",
    "import copy\n",
    "import os\n",
    "import pickle\n",
    "import math\n",
    "\n",
    "%matplotlib inline\n",
    "import matplotlib\n",
    "import matplotlib.pyplot as plt\n",
    "\n",
    "vcoco_all = vu.load_vcoco('vcoco_train')\n",
    "classes = [x['action_name'] for x in vcoco_all]\n",
    "action_dict = {}\n",
    "role_dict = {}\n",
    "for i, x in enumerate(vcoco_all):\n",
    "    # print '{:>20s}'.format(x['action_name']), x['role_name']\n",
    "    action_dict[i+1] = x['action_name']\n",
    "    role_dict[i+1] = x['role_name']\n",
    "new_dict = {27:7, 28:8, 29:15}\n",
    "print action_dict\n",
    "print role_dict"
   ]
  },
  {
   "cell_type": "code",
   "execution_count": 7,
   "metadata": {},
   "outputs": [],
   "source": [
    "sqrt = math.sqrt\n",
    "def abboxdist(bbox1, bbox2):\n",
    "    x1, y1, x2, y2 = bbox1\n",
    "    xx1, yy1, xx2, yy2 = bbox2\n",
    "    dist = sqrt((x1-xx1) ** 2 + (y1-yy1) ** 2) + sqrt((x2-xx2) ** 2 + (y2-yy2) ** 2)\n",
    "    return dist"
   ]
  },
  {
   "cell_type": "code",
   "execution_count": 10,
   "metadata": {},
   "outputs": [
    {
     "name": "stdout",
     "output_type": "stream",
     "text": [
      "{'stand_agent': 0, 'look_agent': 0, 'cut_instr': [0, 0, 0, 0, 0], 'lay_agent': 0, 'snowboard_instr': [0, 0, 0, 0, 0], 'cut_obj': [0, 0, 0, 0, 0], 'point_agent': 0, 'surf_instr': [154.5685815148765, 205.7037966787962, 409.6667096408679, 242.28581269533976, 0.08622593653885693], 'drink_agent': 0, 'skateboard_instr': [0, 0, 0, 0, 0], 'kick_agent': 0, 'smile_agent': 0, 'kick_obj': [0, 0, 0, 0, 0], 'run_agent': 0, 'talk_on_phone_agent': 0, 'catch_obj': [0, 0, 0, 0, 0], 'eat_obj': [0, 0, 0, 0, 0], 'hit_agent': 0, 'cut_agent': 0, 'sit_instr': [0, 0, 0, 0, 0], 'throw_obj': [0, 0, 0, 0, 0], 'eat_instr': [0, 0, 0, 0, 0], 'look_obj': [0, 0, 0, 0, 0], 'surf_agent': 0.08622593653885693, 'hit_instr': [0, 0, 0, 0, 0], 'hit_obj': [0, 0, 0, 0, 0], 'sit_agent': 0, 'skateboard_agent': 0, 'carry_obj': [0, 0, 0, 0, 0], 'read_obj': [0, 0, 0, 0, 0], 'ride_instr': [0, 0, 0, 0, 0], 'jump_agent': 0, 'walk_agent': 0, 'catch_agent': 0, 'work_on_computer_agent': 0, 'read_agent': 0, 'ski_agent': 0, 'throw_agent': 0, 'snowboard_agent': 0, 'point_instr': [0, 0, 0, 0, 0], 'eat_agent': 0, 'hold_agent': 0, 'jump_instr': [0, 0, 0, 0, 0], 'work_on_computer_instr': [0, 0, 0, 0, 0], 'image_id': 137274, 'hold_obj': [0, 0, 0, 0, 0], 'drink_instr': [0, 0, 0, 0, 0], 'lay_instr': [0, 0, 0, 0, 0], 'talk_on_phone_instr': [0, 0, 0, 0, 0], 'person_box': [233.821688368757, 96.04162186469893, 372.7651016168667, 224.026287201967], 'ski_instr': [0, 0, 0, 0, 0], 'ride_agent': 0, 'carry_agent': 0}\n",
      "8105\n"
     ]
    }
   ],
   "source": [
    "result_file = 'results.txt.all'\n",
    "assert(os.path.exists(result_file))\n",
    "prediction_list = []\n",
    "pred_dict = {}\n",
    "with open(result_file, 'r') as f:\n",
    "    for line in f:\n",
    "        line2 = line[:-1]\n",
    "        elements = line2.split(' ')\n",
    "        if len(elements) == 12:\n",
    "            imgid = elements[0].rsplit('/')[-1]\n",
    "            imgid = int(imgid.split('.')[0])\n",
    "            person_box = [float(elements[1]), float(elements[2]), float(elements[3]), float(elements[4])]\n",
    "            score = float(elements[-1])\n",
    "            if score < 0.05:\n",
    "                continue\n",
    "            found = False\n",
    "            for agent_ins in prediction_list:\n",
    "                if imgid == agent_ins['image_id'] and abboxdist(agent_ins['person_box'], person_box) < 1:\n",
    "                    new_pred_dict = agent_ins\n",
    "                    found = True\n",
    "                    continue\n",
    "            if not found:\n",
    "                new_pred_dict = copy.deepcopy(pred_dict)\n",
    "                for aid in range(1,27):\n",
    "                    an = action_dict[aid]\n",
    "                    for role in role_dict[aid]:\n",
    "                        k = an + '_' + role\n",
    "                        if k not in new_pred_dict:\n",
    "                            if role == 'agent':\n",
    "                                new_pred_dict[k] = 0\n",
    "                            else:\n",
    "                                new_pred_dict[k] = [0, 0, 0, 0, 0]\n",
    "            obj_box = [float(elements[6]), float(elements[7]), float(elements[8]), float(elements[9]), score]\n",
    "            action_kind = int(elements[-2])\n",
    "            rn = 1\n",
    "            if action_kind > 26:\n",
    "                rn =  2\n",
    "                action_kind = new_dict[action_kind]\n",
    "            keyone = action_dict[action_kind] + '_agent'\n",
    "            if action_kind > 26 or len(role_dict[action_kind]) > 1:\n",
    "                keytwo = action_dict[action_kind] + '_' + role_dict[action_kind][rn]\n",
    "                if new_pred_dict[keytwo][4] > score:\n",
    "                    #print new_pred_dict[keytwo], obj_box\n",
    "                    continue\n",
    "                new_pred_dict[keytwo] = obj_box\n",
    "            elif score > 0.1:\n",
    "                print action_dict[action_kind], score\n",
    "            new_pred_dict['person_box'] = person_box\n",
    "            new_pred_dict[keyone] = score\n",
    "            new_pred_dict['image_id'] = imgid\n",
    "            if not found:\n",
    "                prediction_list.append(new_pred_dict)\n",
    "print new_pred_dict\n",
    "print len(prediction_list)"
   ]
  },
  {
   "cell_type": "code",
   "execution_count": 4,
   "metadata": {},
   "outputs": [
    {
     "name": "stdout",
     "output_type": "stream",
     "text": [
      "{'stand_agent': 0, 'look_agent': 0, 'cut_instr': [0, 0, 0, 0, 0], 'lay_agent': 0, 'snowboard_instr': [279.6410867318553, 377.86843058099873, 611.6655576886673, 479.4, 0.2894082009990703], 'cut_obj': [0, 0, 0, 0, 0], 'point_agent': 0, 'surf_instr': [0, 0, 0, 0, 0], 'drink_agent': 0, 'skateboard_instr': [0, 0, 0, 0, 0], 'kick_agent': 0, 'smile_agent': 0, 'kick_obj': [0, 0, 0, 0, 0], 'run_agent': 0, 'talk_on_phone_agent': 0, 'catch_obj': [0, 0, 0, 0, 0], 'eat_obj': [0, 0, 0, 0, 0], 'hit_agent': 0, 'cut_agent': 0, 'sit_instr': [0, 0, 0, 0, 0], 'throw_obj': [0, 0, 0, 0, 0], 'eat_instr': [0, 0, 0, 0, 0], 'look_obj': [0, 0, 0, 0, 0], 'surf_agent': 0, 'hit_instr': [0, 0, 0, 0, 0], 'hit_obj': [0, 0, 0, 0, 0], 'sit_agent': 0, 'skateboard_agent': 0, 'carry_obj': [0, 0, 0, 0, 0], 'read_obj': [0, 0, 0, 0, 0], 'ride_instr': [0, 0, 0, 0, 0], 'jump_agent': 0, 'walk_agent': 0, 'catch_agent': 0, 'work_on_computer_agent': 0, 'read_agent': 0, 'ski_agent': 0.42585020629785475, 'throw_agent': 0, 'snowboard_agent': 0.2894082009990703, 'point_instr': [0, 0, 0, 0, 0], 'eat_agent': 0, 'hold_agent': 0, 'jump_instr': [0, 0, 0, 0, 0], 'work_on_computer_instr': [0, 0, 0, 0, 0], 'image_id': 560567, 'hold_obj': [0, 0, 0, 0, 0], 'drink_instr': [0, 0, 0, 0, 0], 'lay_instr': [0, 0, 0, 0, 0], 'talk_on_phone_instr': [0, 0, 0, 0, 0], 'person_box': [291.3332540638902, 64.57866391439782, 514.8958061660052, 415.84241147555804], 'ski_instr': [279.6410867318553, 377.86843058099873, 611.6655576886673, 479.4, 0.42585020629785475], 'ride_agent': 0, 'carry_agent': 0}\n",
      "{'stand_agent': 0, 'look_agent': 0, 'cut_instr': [0, 0, 0, 0, 0], 'lay_agent': 0, 'snowboard_instr': [161.67315492567096, 357.9601129834673, 405.8441448960903, 455.17738002031433, 0.06079171766946171], 'cut_obj': [0, 0, 0, 0, 0], 'point_agent': 0, 'surf_instr': [0, 0, 0, 0, 0], 'drink_agent': 0, 'skateboard_instr': [0, 0, 0, 0, 0], 'kick_agent': 0, 'smile_agent': 0, 'kick_obj': [0, 0, 0, 0, 0], 'run_agent': 0, 'talk_on_phone_agent': 0, 'catch_obj': [0, 0, 0, 0, 0], 'eat_obj': [0, 0, 0, 0, 0], 'hit_agent': 0, 'cut_agent': 0, 'sit_instr': [0, 0, 0, 0, 0], 'throw_obj': [0, 0, 0, 0, 0], 'eat_instr': [0, 0, 0, 0, 0], 'look_obj': [0, 0, 0, 0, 0], 'surf_agent': 0, 'hit_instr': [0, 0, 0, 0, 0], 'hit_obj': [0, 0, 0, 0, 0], 'sit_agent': 0, 'skateboard_agent': 0, 'carry_obj': [0, 0, 0, 0, 0], 'read_obj': [0, 0, 0, 0, 0], 'ride_instr': [0, 0, 0, 0, 0], 'jump_agent': 0, 'walk_agent': 0, 'catch_agent': 0, 'work_on_computer_agent': 0, 'read_agent': 0, 'ski_agent': 0, 'throw_agent': 0, 'snowboard_agent': 0.06079171766946171, 'point_instr': [0, 0, 0, 0, 0], 'eat_agent': 0, 'hold_agent': 0, 'jump_instr': [0, 0, 0, 0, 0], 'work_on_computer_instr': [0, 0, 0, 0, 0], 'image_id': 560567, 'hold_obj': [0, 0, 0, 0, 0], 'drink_instr': [0, 0, 0, 0, 0], 'lay_instr': [0, 0, 0, 0, 0], 'talk_on_phone_instr': [0, 0, 0, 0, 0], 'person_box': [316.54624462673144, 123.47176713167401, 454.7137394157612, 401.4284450987418], 'ski_instr': [0, 0, 0, 0, 0], 'ride_agent': 0, 'carry_agent': 0}\n",
      "{'stand_agent': 0, 'look_agent': 0.07418703837551523, 'cut_instr': [0, 0, 0, 0, 0], 'lay_agent': 0, 'snowboard_instr': [116.34030511690746, 447.9418743319196, 227.0512350720278, 507.8531419933997, 0.1889337577164751], 'cut_obj': [0, 0, 0, 0, 0], 'point_agent': 0, 'surf_instr': [0, 0, 0, 0, 0], 'drink_agent': 0, 'skateboard_instr': [0, 0, 0, 0, 0], 'kick_agent': 0, 'smile_agent': 0, 'kick_obj': [0, 0, 0, 0, 0], 'run_agent': 0, 'talk_on_phone_agent': 0, 'catch_obj': [0, 0, 0, 0, 0], 'eat_obj': [0, 0, 0, 0, 0], 'hit_agent': 0, 'cut_agent': 0, 'sit_instr': [0, 0, 0, 0, 0], 'throw_obj': [0, 0, 0, 0, 0], 'eat_instr': [0, 0, 0, 0, 0], 'look_obj': [116.34030511690746, 447.9418743319196, 227.0512350720278, 507.8531419933997, 0.07418703837551523], 'surf_agent': 0, 'hit_instr': [0, 0, 0, 0, 0], 'hit_obj': [0, 0, 0, 0, 0], 'sit_agent': 0, 'skateboard_agent': 0, 'carry_obj': [0, 0, 0, 0, 0], 'read_obj': [0, 0, 0, 0, 0], 'ride_instr': [0, 0, 0, 0, 0], 'jump_agent': 0.05526982166852494, 'walk_agent': 0, 'catch_agent': 0, 'work_on_computer_agent': 0, 'read_agent': 0, 'ski_agent': 0, 'throw_agent': 0, 'snowboard_agent': 0.1889337577164751, 'point_instr': [0, 0, 0, 0, 0], 'eat_agent': 0, 'hold_agent': 0, 'jump_instr': [116.34030511690746, 447.9418743319196, 227.0512350720278, 507.8531419933997, 0.05526982166852494], 'work_on_computer_instr': [0, 0, 0, 0, 0], 'image_id': 93127, 'hold_obj': [0, 0, 0, 0, 0], 'drink_instr': [0, 0, 0, 0, 0], 'lay_instr': [0, 0, 0, 0, 0], 'talk_on_phone_instr': [0, 0, 0, 0, 0], 'person_box': [133.4506278727978, 208.2844892089855, 367.385407139956, 490.1296274020923], 'ski_instr': [0, 0, 0, 0, 0], 'ride_agent': 0, 'carry_agent': 0}\n",
      "{'stand_agent': 0, 'look_agent': 0, 'cut_instr': [0, 0, 0, 0, 0], 'lay_agent': 0.10023029212371543, 'snowboard_instr': [0, 0, 0, 0, 0], 'cut_obj': [0, 0, 0, 0, 0], 'point_agent': 0, 'surf_instr': [0, 0, 0, 0, 0], 'drink_agent': 0, 'skateboard_instr': [0, 0, 0, 0, 0], 'kick_agent': 0, 'smile_agent': 0, 'kick_obj': [0, 0, 0, 0, 0], 'run_agent': 0, 'talk_on_phone_agent': 0, 'catch_obj': [0, 0, 0, 0, 0], 'eat_obj': [0, 0, 0, 0, 0], 'hit_agent': 0, 'cut_agent': 0, 'sit_instr': [0, 0, 0, 0, 0], 'throw_obj': [0, 0, 0, 0, 0], 'eat_instr': [0, 0, 0, 0, 0], 'look_obj': [0, 0, 0, 0, 0], 'surf_agent': 0, 'hit_instr': [0, 0, 0, 0, 0], 'hit_obj': [0, 0, 0, 0, 0], 'sit_agent': 0, 'skateboard_agent': 0, 'carry_obj': [0, 0, 0, 0, 0], 'read_obj': [0, 0, 0, 0, 0], 'ride_instr': [0, 0, 0, 0, 0], 'jump_agent': 0, 'walk_agent': 0, 'catch_agent': 0, 'work_on_computer_agent': 0, 'read_agent': 0, 'ski_agent': 0, 'throw_agent': 0, 'snowboard_agent': 0, 'point_instr': [0, 0, 0, 0, 0], 'eat_agent': 0, 'hold_agent': 0, 'jump_instr': [0, 0, 0, 0, 0], 'work_on_computer_instr': [0, 0, 0, 0, 0], 'image_id': 157230, 'hold_obj': [0, 0, 0, 0, 0], 'drink_instr': [0, 0, 0, 0, 0], 'lay_instr': [7.642784914459799, 202.49564503586538, 309.9274819816567, 475.66023884083364, 0.10023029212371543], 'talk_on_phone_instr': [0, 0, 0, 0, 0], 'person_box': [13.967689902620153, 180.4062121206889, 329.74191598963074, 481.3369705287388], 'ski_instr': [0, 0, 0, 0, 0], 'ride_agent': 0, 'carry_agent': 0}\n",
      "{'stand_agent': 0, 'look_agent': 0, 'cut_instr': [0, 0, 0, 0, 0], 'lay_agent': 0, 'snowboard_instr': [0, 0, 0, 0, 0], 'cut_obj': [0, 0, 0, 0, 0], 'point_agent': 0, 'surf_instr': [0, 0, 0, 0, 0], 'drink_agent': 0, 'skateboard_instr': [0, 0, 0, 0, 0], 'kick_agent': 0, 'smile_agent': 0, 'kick_obj': [0, 0, 0, 0, 0], 'run_agent': 0, 'talk_on_phone_agent': 0, 'catch_obj': [0, 0, 0, 0, 0], 'eat_obj': [0, 0, 0, 0, 0], 'hit_agent': 0, 'cut_agent': 0, 'sit_instr': [206.83477466755582, 238.82452759587645, 387.3441034318334, 477.42636628695294, 0.7210926761644809], 'throw_obj': [0, 0, 0, 0, 0], 'eat_instr': [0, 0, 0, 0, 0], 'look_obj': [0, 0, 0, 0, 0], 'surf_agent': 0, 'hit_instr': [0, 0, 0, 0, 0], 'hit_obj': [0, 0, 0, 0, 0], 'sit_agent': 0.7210926761644809, 'skateboard_agent': 0, 'carry_obj': [0, 0, 0, 0, 0], 'read_obj': [0, 0, 0, 0, 0], 'ride_instr': [206.83477466755582, 238.82452759587645, 387.3441034318334, 477.42636628695294, 0.6045321459453342], 'jump_agent': 0, 'walk_agent': 0, 'catch_agent': 0, 'work_on_computer_agent': 0, 'read_agent': 0, 'ski_agent': 0, 'throw_agent': 0, 'snowboard_agent': 0, 'point_instr': [0, 0, 0, 0, 0], 'eat_agent': 0, 'hold_agent': 0.4028061068100459, 'jump_instr': [0, 0, 0, 0, 0], 'work_on_computer_instr': [0, 0, 0, 0, 0], 'image_id': 51563, 'hold_obj': [206.83477466755582, 238.82452759587645, 387.3441034318334, 477.42636628695294, 0.4028061068100459], 'drink_instr': [0, 0, 0, 0, 0], 'lay_instr': [0, 0, 0, 0, 0], 'talk_on_phone_instr': [0, 0, 0, 0, 0], 'person_box': [229.78824647959485, 147.73130437651037, 358.45758611484706, 348.9206373964981], 'ski_instr': [0, 0, 0, 0, 0], 'ride_agent': 0.6045321459453342, 'carry_agent': 0}\n",
      "{'stand_agent': 0, 'look_agent': 0, 'cut_instr': [0, 0, 0, 0, 0], 'lay_agent': 0, 'snowboard_instr': [0, 0, 0, 0, 0], 'cut_obj': [0, 0, 0, 0, 0], 'point_agent': 0, 'surf_instr': [0, 0, 0, 0, 0], 'drink_agent': 0, 'skateboard_instr': [0, 0, 0, 0, 0], 'kick_agent': 0, 'smile_agent': 0, 'kick_obj': [0, 0, 0, 0, 0], 'run_agent': 0, 'talk_on_phone_agent': 0, 'catch_obj': [0, 0, 0, 0, 0], 'eat_obj': [0, 0, 0, 0, 0], 'hit_agent': 0, 'cut_agent': 0, 'sit_instr': [103.6088096616479, 237.29037170349122, 245.39508652151937, 478.0035607947273, 0.41925146959244936], 'throw_obj': [0, 0, 0, 0, 0], 'eat_instr': [0, 0, 0, 0, 0], 'look_obj': [0, 0, 0, 0, 0], 'surf_agent': 0, 'hit_instr': [0, 0, 0, 0, 0], 'hit_obj': [0, 0, 0, 0, 0], 'sit_agent': 0.41925146959244936, 'skateboard_agent': 0, 'carry_obj': [0, 0, 0, 0, 0], 'read_obj': [0, 0, 0, 0, 0], 'ride_instr': [103.6088096616479, 237.29037170349122, 245.39508652151937, 478.0035607947273, 0.638768315607551], 'jump_agent': 0, 'walk_agent': 0, 'catch_agent': 0, 'work_on_computer_agent': 0, 'read_agent': 0, 'ski_agent': 0, 'throw_agent': 0, 'snowboard_agent': 0, 'point_instr': [0, 0, 0, 0, 0], 'eat_agent': 0, 'hold_agent': 0.09401679005610862, 'jump_instr': [0, 0, 0, 0, 0], 'work_on_computer_instr': [0, 0, 0, 0, 0], 'image_id': 51563, 'hold_obj': [103.6088096616479, 237.29037170349122, 245.39508652151937, 478.0035607947273, 0.09401679005610862], 'drink_instr': [0, 0, 0, 0, 0], 'lay_instr': [0, 0, 0, 0, 0], 'talk_on_phone_instr': [0, 0, 0, 0, 0], 'person_box': [107.70363478763123, 156.6720388935464, 206.35716404694534, 389.69809991951865], 'ski_instr': [0, 0, 0, 0, 0], 'ride_agent': 0.638768315607551, 'carry_agent': 0}\n",
      "{'stand_agent': 0, 'look_agent': 0, 'cut_instr': [0, 0, 0, 0, 0], 'lay_agent': 0, 'snowboard_instr': [0, 0, 0, 0, 0], 'cut_obj': [0, 0, 0, 0, 0], 'point_agent': 0, 'surf_instr': [0, 0, 0, 0, 0], 'drink_agent': 0, 'skateboard_instr': [0, 0, 0, 0, 0], 'kick_agent': 0, 'smile_agent': 0, 'kick_obj': [0, 0, 0, 0, 0], 'run_agent': 0, 'talk_on_phone_agent': 0, 'catch_obj': [0, 0, 0, 0, 0], 'eat_obj': [0, 0, 0, 0, 0], 'hit_agent': 0, 'cut_agent': 0, 'sit_instr': [359.7743818947293, 264.623782395852, 531.9620472132493, 479.4, 0.19779267541773826], 'throw_obj': [0, 0, 0, 0, 0], 'eat_instr': [0, 0, 0, 0, 0], 'look_obj': [0, 0, 0, 0, 0], 'surf_agent': 0, 'hit_instr': [0, 0, 0, 0, 0], 'hit_obj': [0, 0, 0, 0, 0], 'sit_agent': 0.19779267541773826, 'skateboard_agent': 0, 'carry_obj': [0, 0, 0, 0, 0], 'read_obj': [0, 0, 0, 0, 0], 'ride_instr': [359.7743818947293, 264.623782395852, 531.9620472132493, 479.4, 0.25128419459683826], 'jump_agent': 0, 'walk_agent': 0, 'catch_agent': 0, 'work_on_computer_agent': 0, 'read_agent': 0, 'ski_agent': 0, 'throw_agent': 0, 'snowboard_agent': 0, 'point_instr': [0, 0, 0, 0, 0], 'eat_agent': 0, 'hold_agent': 0.1889347778312675, 'jump_instr': [0, 0, 0, 0, 0], 'work_on_computer_instr': [0, 0, 0, 0, 0], 'image_id': 51563, 'hold_obj': [359.7743818947293, 264.623782395852, 531.9620472132493, 479.4, 0.1889347778312675], 'drink_instr': [0, 0, 0, 0, 0], 'lay_instr': [0, 0, 0, 0, 0], 'talk_on_phone_instr': [0, 0, 0, 0, 0], 'person_box': [374.9767215488007, 176.89878466763204, 509.85275247819936, 370.3991402957294], 'ski_instr': [0, 0, 0, 0, 0], 'ride_agent': 0.25128419459683826, 'carry_agent': 0}\n",
      "{'stand_agent': 0, 'look_agent': 0, 'cut_instr': [0, 0, 0, 0, 0], 'lay_agent': 0, 'snowboard_instr': [0, 0, 0, 0, 0], 'cut_obj': [0, 0, 0, 0, 0], 'point_agent': 0, 'surf_instr': [0, 0, 0, 0, 0], 'drink_agent': 0, 'skateboard_instr': [0, 0, 0, 0, 0], 'kick_agent': 0, 'smile_agent': 0, 'kick_obj': [0, 0, 0, 0, 0], 'run_agent': 0, 'talk_on_phone_agent': 0, 'catch_obj': [0, 0, 0, 0, 0], 'eat_obj': [460.5200650175, 358.71434564410475, 525.2275978420545, 403.79349432756476, 0.2707905623958119], 'hit_agent': 0, 'cut_agent': 0, 'sit_instr': [208.86100168273643, 213.57316156084474, 424.96426940590044, 466.5004143218767, 0.06363160342744337], 'throw_obj': [0, 0, 0, 0, 0], 'eat_instr': [0, 0, 0, 0, 0], 'look_obj': [0, 0, 0, 0, 0], 'surf_agent': 0, 'hit_instr': [0, 0, 0, 0, 0], 'hit_obj': [0, 0, 0, 0, 0], 'sit_agent': 0.06363160342744337, 'skateboard_agent': 0, 'carry_obj': [0, 0, 0, 0, 0], 'read_obj': [0, 0, 0, 0, 0], 'ride_instr': [0, 0, 0, 0, 0], 'jump_agent': 0, 'walk_agent': 0, 'catch_agent': 0, 'work_on_computer_agent': 0, 'read_agent': 0, 'ski_agent': 0, 'throw_agent': 0, 'snowboard_agent': 0, 'point_instr': [0, 0, 0, 0, 0], 'eat_agent': 0.2707905623958119, 'hold_agent': 0.22082392201241888, 'jump_instr': [0, 0, 0, 0, 0], 'work_on_computer_instr': [0, 0, 0, 0, 0], 'image_id': 23315, 'hold_obj': [460.5200650175, 358.71434564410475, 525.2275978420545, 403.79349432756476, 0.22082392201241888], 'drink_instr': [0, 0, 0, 0, 0], 'lay_instr': [0, 0, 0, 0, 0], 'talk_on_phone_instr': [0, 0, 0, 0, 0], 'person_box': [217.34446804246932, 122.78620068963305, 467.1941160237505, 463.72509139996885], 'ski_instr': [0, 0, 0, 0, 0], 'ride_agent': 0, 'carry_agent': 0}\n",
      "{'stand_agent': 0, 'look_agent': 0, 'cut_instr': [0, 0, 0, 0, 0], 'lay_agent': 0, 'snowboard_instr': [0, 0, 0, 0, 0], 'cut_obj': [0, 0, 0, 0, 0], 'point_agent': 0, 'surf_instr': [0, 0, 0, 0, 0], 'drink_agent': 0, 'skateboard_instr': [0, 0, 0, 0, 0], 'kick_agent': 0, 'smile_agent': 0, 'kick_obj': [0, 0, 0, 0, 0], 'run_agent': 0, 'talk_on_phone_agent': 0, 'catch_obj': [0, 0, 0, 0, 0], 'eat_obj': [0, 0, 0, 0, 0], 'hit_agent': 0, 'cut_agent': 0, 'sit_instr': [0, 0, 0, 0, 0], 'throw_obj': [0, 0, 0, 0, 0], 'eat_instr': [0, 0, 0, 0, 0], 'look_obj': [0, 0, 0, 0, 0], 'surf_agent': 0, 'hit_instr': [0, 0, 0, 0, 0], 'hit_obj': [0, 0, 0, 0, 0], 'sit_agent': 0, 'skateboard_agent': 0, 'carry_obj': [0, 0, 0, 0, 0], 'read_obj': [0, 0, 0, 0, 0], 'ride_instr': [0, 0, 0, 0, 0], 'jump_agent': 0, 'walk_agent': 0, 'catch_agent': 0, 'work_on_computer_agent': 0.06453810019490783, 'read_agent': 0, 'ski_agent': 0, 'throw_agent': 0, 'snowboard_agent': 0, 'point_instr': [0, 0, 0, 0, 0], 'eat_agent': 0, 'hold_agent': 0, 'jump_instr': [0, 0, 0, 0, 0], 'work_on_computer_instr': [189.70549669802162, 10.557780594909714, 498.33139798186244, 369.3031340483585, 0.06453810019490783], 'image_id': 389577, 'hold_obj': [0, 0, 0, 0, 0], 'drink_instr': [0, 0, 0, 0, 0], 'lay_instr': [0, 0, 0, 0, 0], 'talk_on_phone_instr': [0, 0, 0, 0, 0], 'person_box': [189.70549669802162, 10.557780594909714, 498.33139798186244, 369.3031340483585], 'ski_instr': [0, 0, 0, 0, 0], 'ride_agent': 0, 'carry_agent': 0}\n",
      "{'stand_agent': 0, 'look_agent': 0.11865440640717999, 'cut_instr': [0, 0, 0, 0, 0], 'lay_agent': 0, 'snowboard_instr': [0, 0, 0, 0, 0], 'cut_obj': [0, 0, 0, 0, 0], 'point_agent': 0, 'surf_instr': [0, 0, 0, 0, 0], 'drink_agent': 0, 'skateboard_instr': [127.03209507221797, 83.66437961203854, 278.47432955507867, 274.97985539257166, 0.32970942577071194], 'kick_agent': 0, 'smile_agent': 0, 'kick_obj': [0, 0, 0, 0, 0], 'run_agent': 0, 'talk_on_phone_agent': 0, 'catch_obj': [0, 0, 0, 0, 0], 'eat_obj': [0, 0, 0, 0, 0], 'hit_agent': 0, 'cut_agent': 0, 'sit_instr': [0, 0, 0, 0, 0], 'throw_obj': [0, 0, 0, 0, 0], 'eat_instr': [0, 0, 0, 0, 0], 'look_obj': [127.03209507221797, 83.66437961203854, 278.47432955507867, 274.97985539257166, 0.11865440640717999], 'surf_agent': 0, 'hit_instr': [0, 0, 0, 0, 0], 'hit_obj': [0, 0, 0, 0, 0], 'sit_agent': 0, 'skateboard_agent': 0.32970942577071194, 'carry_obj': [0, 0, 0, 0, 0], 'read_obj': [0, 0, 0, 0, 0], 'ride_instr': [0, 0, 0, 0, 0], 'jump_agent': 0.3086289768185999, 'walk_agent': 0, 'catch_agent': 0, 'work_on_computer_agent': 0, 'read_agent': 0, 'ski_agent': 0, 'throw_agent': 0, 'snowboard_agent': 0, 'point_instr': [0, 0, 0, 0, 0], 'eat_agent': 0, 'hold_agent': 0, 'jump_instr': [127.03209507221797, 83.66437961203854, 278.47432955507867, 274.97985539257166, 0.3086289768185999], 'work_on_computer_instr': [0, 0, 0, 0, 0], 'image_id': 473733, 'hold_obj': [0, 0, 0, 0, 0], 'drink_instr': [0, 0, 0, 0, 0], 'lay_instr': [0, 0, 0, 0, 0], 'talk_on_phone_instr': [0, 0, 0, 0, 0], 'person_box': [106.33337578138068, 50.90676530162992, 370.44776189430684, 253.38981267788085], 'ski_instr': [0, 0, 0, 0, 0], 'ride_agent': 0, 'carry_agent': 0}\n",
      "{'stand_agent': 0, 'look_agent': 0.12079646416803605, 'cut_instr': [0, 0, 0, 0, 0], 'lay_agent': 0, 'snowboard_instr': [0, 0, 0, 0, 0], 'cut_obj': [0, 0, 0, 0, 0], 'point_agent': 0, 'surf_instr': [0, 0, 0, 0, 0], 'drink_agent': 0, 'skateboard_instr': [127.03209507221797, 83.66437961203854, 278.47432955507867, 274.97985539257166, 0.16074241099777642], 'kick_agent': 0, 'smile_agent': 0, 'kick_obj': [0, 0, 0, 0, 0], 'run_agent': 0, 'talk_on_phone_agent': 0, 'catch_obj': [0, 0, 0, 0, 0], 'eat_obj': [0, 0, 0, 0, 0], 'hit_agent': 0, 'cut_agent': 0, 'sit_instr': [0, 0, 0, 0, 0], 'throw_obj': [0, 0, 0, 0, 0], 'eat_instr': [0, 0, 0, 0, 0], 'look_obj': [127.03209507221797, 83.66437961203854, 278.47432955507867, 274.97985539257166, 0.12079646416803605], 'surf_agent': 0, 'hit_instr': [0, 0, 0, 0, 0], 'hit_obj': [0, 0, 0, 0, 0], 'sit_agent': 0, 'skateboard_agent': 0.16074241099777642, 'carry_obj': [0, 0, 0, 0, 0], 'read_obj': [0, 0, 0, 0, 0], 'ride_instr': [0, 0, 0, 0, 0], 'jump_agent': 0.11029526076521176, 'walk_agent': 0, 'catch_agent': 0, 'work_on_computer_agent': 0, 'read_agent': 0, 'ski_agent': 0, 'throw_agent': 0, 'snowboard_agent': 0, 'point_instr': [0, 0, 0, 0, 0], 'eat_agent': 0, 'hold_agent': 0, 'jump_instr': [127.03209507221797, 83.66437961203854, 278.47432955507867, 274.97985539257166, 0.11029526076521176], 'work_on_computer_instr': [0, 0, 0, 0, 0], 'image_id': 473733, 'hold_obj': [0, 0, 0, 0, 0], 'drink_instr': [0, 0, 0, 0, 0], 'lay_instr': [0, 0, 0, 0, 0], 'talk_on_phone_instr': [0, 0, 0, 0, 0], 'person_box': [142.64349485885546, 58.17355397051567, 310.16556684336757, 216.18965831520515], 'ski_instr': [0, 0, 0, 0, 0], 'ride_agent': 0, 'carry_agent': 0}\n",
      "{'stand_agent': 0, 'look_agent': 0, 'cut_instr': [0, 0, 0, 0, 0], 'lay_agent': 0.11075978165234662, 'snowboard_instr': [0, 0, 0, 0, 0], 'cut_obj': [0, 0, 0, 0, 0], 'point_agent': 0, 'surf_instr': [0, 0, 0, 0, 0], 'drink_agent': 0, 'skateboard_instr': [0, 0, 0, 0, 0], 'kick_agent': 0, 'smile_agent': 0, 'kick_obj': [0, 0, 0, 0, 0], 'run_agent': 0, 'talk_on_phone_agent': 0, 'catch_obj': [0, 0, 0, 0, 0], 'eat_obj': [0, 0, 0, 0, 0], 'hit_agent': 0, 'cut_agent': 0, 'sit_instr': [0, 0, 0, 0, 0], 'throw_obj': [0, 0, 0, 0, 0], 'eat_instr': [0, 0, 0, 0, 0], 'look_obj': [0, 0, 0, 0, 0], 'surf_agent': 0, 'hit_instr': [0, 0, 0, 0, 0], 'hit_obj': [0, 0, 0, 0, 0], 'sit_agent': 0, 'skateboard_agent': 0, 'carry_obj': [0, 0, 0, 0, 0], 'read_obj': [0, 0, 0, 0, 0], 'ride_instr': [0, 0, 0, 0, 0], 'jump_agent': 0, 'walk_agent': 0, 'catch_agent': 0, 'work_on_computer_agent': 0, 'read_agent': 0, 'ski_agent': 0, 'throw_agent': 0, 'snowboard_agent': 0, 'point_instr': [0, 0, 0, 0, 0], 'eat_agent': 0, 'hold_agent': 0, 'jump_instr': [0, 0, 0, 0, 0], 'work_on_computer_instr': [0, 0, 0, 0, 0], 'image_id': 195062, 'hold_obj': [0, 0, 0, 0, 0], 'drink_instr': [0, 0, 0, 0, 0], 'lay_instr': [5.354122789043238, 219.56650212221038, 627.3063227587077, 482.1504771350717, 0.11075978165234662], 'talk_on_phone_instr': [0, 0, 0, 0, 0], 'person_box': [70.62503512021979, 248.66115721055354, 573.0554470820384, 370.19145414537434], 'ski_instr': [0, 0, 0, 0, 0], 'ride_agent': 0, 'carry_agent': 0}\n",
      "{'stand_agent': 0, 'look_agent': 0, 'cut_instr': [0, 0, 0, 0, 0], 'lay_agent': 0, 'snowboard_instr': [0, 0, 0, 0, 0], 'cut_obj': [0, 0, 0, 0, 0], 'point_agent': 0, 'surf_instr': [0, 0, 0, 0, 0], 'drink_agent': 0, 'skateboard_instr': [0, 0, 0, 0, 0], 'kick_agent': 0, 'smile_agent': 0, 'kick_obj': [0, 0, 0, 0, 0], 'run_agent': 0, 'talk_on_phone_agent': 0, 'catch_obj': [0, 0, 0, 0, 0], 'eat_obj': [0, 0, 0, 0, 0], 'hit_agent': 0, 'cut_agent': 0, 'sit_instr': [181.40902014753283, 175.10052652063908, 272.4754511766662, 384.0168453893847, 0.20054172680739038], 'throw_obj': [0, 0, 0, 0, 0], 'eat_instr': [0, 0, 0, 0, 0], 'look_obj': [0, 0, 0, 0, 0], 'surf_agent': 0, 'hit_instr': [0, 0, 0, 0, 0], 'hit_obj': [0, 0, 0, 0, 0], 'sit_agent': 0.20054172680739038, 'skateboard_agent': 0, 'carry_obj': [0, 0, 0, 0, 0], 'read_obj': [0, 0, 0, 0, 0], 'ride_instr': [0, 0, 0, 0, 0], 'jump_agent': 0, 'walk_agent': 0, 'catch_agent': 0, 'work_on_computer_agent': 0.2452316214175619, 'read_agent': 0, 'ski_agent': 0, 'throw_agent': 0, 'snowboard_agent': 0, 'point_instr': [0, 0, 0, 0, 0], 'eat_agent': 0, 'hold_agent': 0, 'jump_instr': [0, 0, 0, 0, 0], 'work_on_computer_instr': [15.50375562502639, 75.90078558178652, 101.80320972725656, 146.94936052830056, 0.2452316214175619], 'image_id': 545260, 'hold_obj': [0, 0, 0, 0, 0], 'drink_instr': [0, 0, 0, 0, 0], 'lay_instr': [0, 0, 0, 0, 0], 'talk_on_phone_instr': [0, 0, 0, 0, 0], 'person_box': [35.52956452232081, 52.344982890144884, 254.41664090495775, 361.03716323173416], 'ski_instr': [0, 0, 0, 0, 0], 'ride_agent': 0, 'carry_agent': 0}\n",
      "{'stand_agent': 0, 'look_agent': 0, 'cut_instr': [0, 0, 0, 0, 0], 'lay_agent': 0.13630733891633354, 'snowboard_instr': [0, 0, 0, 0, 0], 'cut_obj': [0, 0, 0, 0, 0], 'point_agent': 0, 'surf_instr': [0, 0, 0, 0, 0], 'drink_agent': 0, 'skateboard_instr': [0, 0, 0, 0, 0], 'kick_agent': 0, 'smile_agent': 0, 'kick_obj': [0, 0, 0, 0, 0], 'run_agent': 0, 'talk_on_phone_agent': 0, 'catch_obj': [0, 0, 0, 0, 0], 'eat_obj': [0, 0, 0, 0, 0], 'hit_agent': 0, 'cut_agent': 0, 'sit_instr': [0, 0, 0, 0, 0], 'throw_obj': [0, 0, 0, 0, 0], 'eat_instr': [0, 0, 0, 0, 0], 'look_obj': [0, 0, 0, 0, 0], 'surf_agent': 0, 'hit_instr': [0, 0, 0, 0, 0], 'hit_obj': [0, 0, 0, 0, 0], 'sit_agent': 0, 'skateboard_agent': 0, 'carry_obj': [0, 0, 0, 0, 0], 'read_obj': [0, 0, 0, 0, 0], 'ride_instr': [0, 0, 0, 0, 0], 'jump_agent': 0, 'walk_agent': 0, 'catch_agent': 0, 'work_on_computer_agent': 0, 'read_agent': 0, 'ski_agent': 0, 'throw_agent': 0, 'snowboard_agent': 0, 'point_instr': [0, 0, 0, 0, 0], 'eat_agent': 0, 'hold_agent': 0, 'jump_instr': [0, 0, 0, 0, 0], 'work_on_computer_instr': [0, 0, 0, 0, 0], 'image_id': 545260, 'hold_obj': [0, 0, 0, 0, 0], 'drink_instr': [0, 0, 0, 0, 0], 'lay_instr': [229.35167026260052, 62.38157682973548, 595.4886136571932, 343.2814989054231, 0.13630733891633354], 'talk_on_phone_instr': [0, 0, 0, 0, 0], 'person_box': [258.07267658186754, 100.64577384887944, 392.02038736962453, 335.1222906842812], 'ski_instr': [0, 0, 0, 0, 0], 'ride_agent': 0, 'carry_agent': 0}\n",
      "{'stand_agent': 0, 'look_agent': 0.11151106833808686, 'cut_instr': [0, 0, 0, 0, 0], 'lay_agent': 0, 'snowboard_instr': [0, 0, 0, 0, 0], 'cut_obj': [0, 0, 0, 0, 0], 'point_agent': 0, 'surf_instr': [0, 0, 0, 0, 0], 'drink_agent': 0, 'skateboard_instr': [0, 0, 0, 0, 0], 'kick_agent': 0, 'smile_agent': 0, 'kick_obj': [0, 0, 0, 0, 0], 'run_agent': 0, 'talk_on_phone_agent': 0, 'catch_obj': [0, 0, 0, 0, 0], 'eat_obj': [0, 0, 0, 0, 0], 'hit_agent': 0, 'cut_agent': 0, 'sit_instr': [0, 0, 0, 0, 0], 'throw_obj': [0, 0, 0, 0, 0], 'eat_instr': [0, 0, 0, 0, 0], 'look_obj': [15.50375562502639, 75.90078558178652, 101.80320972725656, 146.94936052830056, 0.11151106833808686], 'surf_agent': 0, 'hit_instr': [0, 0, 0, 0, 0], 'hit_obj': [0, 0, 0, 0, 0], 'sit_agent': 0, 'skateboard_agent': 0, 'carry_obj': [0, 0, 0, 0, 0], 'read_obj': [0, 0, 0, 0, 0], 'ride_instr': [0, 0, 0, 0, 0], 'jump_agent': 0, 'walk_agent': 0, 'catch_agent': 0, 'work_on_computer_agent': 0.09436794761994714, 'read_agent': 0, 'ski_agent': 0, 'throw_agent': 0, 'snowboard_agent': 0, 'point_instr': [0, 0, 0, 0, 0], 'eat_agent': 0, 'hold_agent': 0, 'jump_instr': [0, 0, 0, 0, 0], 'work_on_computer_instr': [15.50375562502639, 75.90078558178652, 101.80320972725656, 146.94936052830056, 0.09436794761994714], 'image_id': 545260, 'hold_obj': [0, 0, 0, 0, 0], 'drink_instr': [0, 0, 0, 0, 0], 'lay_instr': [0, 0, 0, 0, 0], 'talk_on_phone_instr': [0, 0, 0, 0, 0], 'person_box': [40.691847993187885, 149.76511707736347, 182.6056414177249, 350.16973862571814], 'ski_instr': [0, 0, 0, 0, 0], 'ride_agent': 0, 'carry_agent': 0}\n",
      "{'stand_agent': 0, 'look_agent': 0, 'cut_instr': [0, 0, 0, 0, 0], 'lay_agent': 0.07393995090978966, 'snowboard_instr': [0, 0, 0, 0, 0], 'cut_obj': [0, 0, 0, 0, 0], 'point_agent': 0, 'surf_instr': [0, 0, 0, 0, 0], 'drink_agent': 0, 'skateboard_instr': [0, 0, 0, 0, 0], 'kick_agent': 0, 'smile_agent': 0, 'kick_obj': [0, 0, 0, 0, 0], 'run_agent': 0, 'talk_on_phone_agent': 0, 'catch_obj': [0, 0, 0, 0, 0], 'eat_obj': [0, 0, 0, 0, 0], 'hit_agent': 0, 'cut_agent': 0, 'sit_instr': [0, 0, 0, 0, 0], 'throw_obj': [0, 0, 0, 0, 0], 'eat_instr': [0, 0, 0, 0, 0], 'look_obj': [0, 0, 0, 0, 0], 'surf_agent': 0, 'hit_instr': [0, 0, 0, 0, 0], 'hit_obj': [0, 0, 0, 0, 0], 'sit_agent': 0, 'skateboard_agent': 0, 'carry_obj': [0, 0, 0, 0, 0], 'read_obj': [0, 0, 0, 0, 0], 'ride_instr': [0, 0, 0, 0, 0], 'jump_agent': 0, 'walk_agent': 0, 'catch_agent': 0, 'work_on_computer_agent': 0, 'read_agent': 0, 'ski_agent': 0, 'throw_agent': 0, 'snowboard_agent': 0, 'point_instr': [0, 0, 0, 0, 0], 'eat_agent': 0, 'hold_agent': 0, 'jump_instr': [0, 0, 0, 0, 0], 'work_on_computer_instr': [0, 0, 0, 0, 0], 'image_id': 424536, 'hold_obj': [0, 0, 0, 0, 0], 'drink_instr': [0, 0, 0, 0, 0], 'lay_instr': [108.32271098910736, 117.02447754123244, 498.6983963322327, 347.7009808157613, 0.07393995090978966], 'talk_on_phone_instr': [0, 0, 0, 0, 0], 'person_box': [378.1100109505606, 164.399824774651, 639.4325, 324.7622302611679], 'ski_instr': [0, 0, 0, 0, 0], 'ride_agent': 0, 'carry_agent': 0}\n",
      "{'stand_agent': 0, 'look_agent': 0.514286026751223, 'cut_instr': [0, 0, 0, 0, 0], 'lay_agent': 0, 'snowboard_instr': [0, 0, 0, 0, 0], 'cut_obj': [0, 0, 0, 0, 0], 'point_agent': 0, 'surf_instr': [0, 0, 0, 0, 0], 'drink_agent': 0, 'skateboard_instr': [0, 0, 0, 0, 0], 'kick_agent': 0.36250898352622996, 'smile_agent': 0, 'kick_obj': [304.01622294529824, 348.8140931943433, 331.0960619611974, 371.45744127856955, 0.36250898352622996], 'run_agent': 0, 'talk_on_phone_agent': 0, 'catch_obj': [0, 0, 0, 0, 0], 'eat_obj': [0, 0, 0, 0, 0], 'hit_agent': 0, 'cut_agent': 0, 'sit_instr': [0, 0, 0, 0, 0], 'throw_obj': [0, 0, 0, 0, 0], 'eat_instr': [0, 0, 0, 0, 0], 'look_obj': [304.01622294529824, 348.8140931943433, 331.0960619611974, 371.45744127856955, 0.514286026751223], 'surf_agent': 0, 'hit_instr': [0, 0, 0, 0, 0], 'hit_obj': [0, 0, 0, 0, 0], 'sit_agent': 0, 'skateboard_agent': 0, 'carry_obj': [0, 0, 0, 0, 0], 'read_obj': [0, 0, 0, 0, 0], 'ride_instr': [0, 0, 0, 0, 0], 'jump_agent': 0, 'walk_agent': 0, 'catch_agent': 0, 'work_on_computer_agent': 0, 'read_agent': 0, 'ski_agent': 0, 'throw_agent': 0, 'snowboard_agent': 0, 'point_instr': [0, 0, 0, 0, 0], 'eat_agent': 0, 'hold_agent': 0, 'jump_instr': [0, 0, 0, 0, 0], 'work_on_computer_instr': [0, 0, 0, 0, 0], 'image_id': 52943, 'hold_obj': [0, 0, 0, 0, 0], 'drink_instr': [0, 0, 0, 0, 0], 'lay_instr': [0, 0, 0, 0, 0], 'talk_on_phone_instr': [0, 0, 0, 0, 0], 'person_box': [291.2807020229595, 203.22727992797823, 358.7437281109058, 371.41804004627255], 'ski_instr': [0, 0, 0, 0, 0], 'ride_agent': 0, 'carry_agent': 0}\n",
      "{'stand_agent': 0, 'look_agent': 0.09821473180579052, 'cut_instr': [0, 0, 0, 0, 0], 'lay_agent': 0, 'snowboard_instr': [0, 0, 0, 0, 0], 'cut_obj': [0, 0, 0, 0, 0], 'point_agent': 0, 'surf_instr': [0, 0, 0, 0, 0], 'drink_agent': 0, 'skateboard_instr': [0, 0, 0, 0, 0], 'kick_agent': 0, 'smile_agent': 0, 'kick_obj': [0, 0, 0, 0, 0], 'run_agent': 0, 'talk_on_phone_agent': 0, 'catch_obj': [0, 0, 0, 0, 0], 'eat_obj': [0, 0, 0, 0, 0], 'hit_agent': 0, 'cut_agent': 0, 'sit_instr': [0, 0, 0, 0, 0], 'throw_obj': [0, 0, 0, 0, 0], 'eat_instr': [0, 0, 0, 0, 0], 'look_obj': [525.1988905667185, 117.79899113975897, 542.737757472606, 150.76959071508745, 0.09821473180579052], 'surf_agent': 0, 'hit_instr': [0, 0, 0, 0, 0], 'hit_obj': [0, 0, 0, 0, 0], 'sit_agent': 0, 'skateboard_agent': 0, 'carry_obj': [0, 0, 0, 0, 0], 'read_obj': [0, 0, 0, 0, 0], 'ride_instr': [0, 0, 0, 0, 0], 'jump_agent': 0, 'walk_agent': 0, 'catch_agent': 0, 'work_on_computer_agent': 0, 'read_agent': 0, 'ski_agent': 0, 'throw_agent': 0, 'snowboard_agent': 0, 'point_instr': [0, 0, 0, 0, 0], 'eat_agent': 0, 'hold_agent': 0, 'jump_instr': [0, 0, 0, 0, 0], 'work_on_computer_instr': [0, 0, 0, 0, 0], 'image_id': 52943, 'hold_obj': [0, 0, 0, 0, 0], 'drink_instr': [0, 0, 0, 0, 0], 'lay_instr': [0, 0, 0, 0, 0], 'talk_on_phone_instr': [0, 0, 0, 0, 0], 'person_box': [436.3327439803563, 151.8471050129752, 504.5442286025771, 251.53530356842563], 'ski_instr': [0, 0, 0, 0, 0], 'ride_agent': 0, 'carry_agent': 0}\n",
      "{'stand_agent': 0, 'look_agent': 0.0757394055938691, 'cut_instr': [0, 0, 0, 0, 0], 'lay_agent': 0, 'snowboard_instr': [0, 0, 0, 0, 0], 'cut_obj': [0, 0, 0, 0, 0], 'point_agent': 0, 'surf_instr': [0, 0, 0, 0, 0], 'drink_agent': 0, 'skateboard_instr': [0, 0, 0, 0, 0], 'kick_agent': 0, 'smile_agent': 0, 'kick_obj': [0, 0, 0, 0, 0], 'run_agent': 0, 'talk_on_phone_agent': 0, 'catch_obj': [0, 0, 0, 0, 0], 'eat_obj': [0, 0, 0, 0, 0], 'hit_agent': 0, 'cut_agent': 0, 'sit_instr': [0, 0, 0, 0, 0], 'throw_obj': [0, 0, 0, 0, 0], 'eat_instr': [0, 0, 0, 0, 0], 'look_obj': [525.1988905667185, 117.79899113975897, 542.737757472606, 150.76959071508745, 0.0757394055938691], 'surf_agent': 0, 'hit_instr': [0, 0, 0, 0, 0], 'hit_obj': [0, 0, 0, 0, 0], 'sit_agent': 0, 'skateboard_agent': 0, 'carry_obj': [0, 0, 0, 0, 0], 'read_obj': [0, 0, 0, 0, 0], 'ride_instr': [0, 0, 0, 0, 0], 'jump_agent': 0, 'walk_agent': 0, 'catch_agent': 0, 'work_on_computer_agent': 0, 'read_agent': 0, 'ski_agent': 0, 'throw_agent': 0, 'snowboard_agent': 0, 'point_instr': [0, 0, 0, 0, 0], 'eat_agent': 0, 'hold_agent': 0, 'jump_instr': [0, 0, 0, 0, 0], 'work_on_computer_instr': [0, 0, 0, 0, 0], 'image_id': 52943, 'hold_obj': [0, 0, 0, 0, 0], 'drink_instr': [0, 0, 0, 0, 0], 'lay_instr': [0, 0, 0, 0, 0], 'talk_on_phone_instr': [0, 0, 0, 0, 0], 'person_box': [545.237408234169, 117.67259956414695, 585.9432672750879, 216.40872320424782], 'ski_instr': [0, 0, 0, 0, 0], 'ride_agent': 0, 'carry_agent': 0}\n",
      "{'stand_agent': 0, 'look_agent': 0.06507513317981228, 'cut_instr': [0, 0, 0, 0, 0], 'lay_agent': 0, 'snowboard_instr': [0, 0, 0, 0, 0], 'cut_obj': [0, 0, 0, 0, 0], 'point_agent': 0, 'surf_instr': [0, 0, 0, 0, 0], 'drink_agent': 0, 'skateboard_instr': [0, 0, 0, 0, 0], 'kick_agent': 0, 'smile_agent': 0, 'kick_obj': [0, 0, 0, 0, 0], 'run_agent': 0, 'talk_on_phone_agent': 0, 'catch_obj': [0, 0, 0, 0, 0], 'eat_obj': [0, 0, 0, 0, 0], 'hit_agent': 0, 'cut_agent': 0, 'sit_instr': [0, 0, 0, 0, 0], 'throw_obj': [0, 0, 0, 0, 0], 'eat_instr': [0, 0, 0, 0, 0], 'look_obj': [23.318938756964233, 109.26110447269033, 43.92183254705369, 146.89392946878732, 0.06507513317981228], 'surf_agent': 0, 'hit_instr': [0, 0, 0, 0, 0], 'hit_obj': [0, 0, 0, 0, 0], 'sit_agent': 0, 'skateboard_agent': 0, 'carry_obj': [0, 0, 0, 0, 0], 'read_obj': [0, 0, 0, 0, 0], 'ride_instr': [0, 0, 0, 0, 0], 'jump_agent': 0, 'walk_agent': 0, 'catch_agent': 0, 'work_on_computer_agent': 0, 'read_agent': 0, 'ski_agent': 0, 'throw_agent': 0, 'snowboard_agent': 0, 'point_instr': [0, 0, 0, 0, 0], 'eat_agent': 0, 'hold_agent': 0, 'jump_instr': [0, 0, 0, 0, 0], 'work_on_computer_instr': [0, 0, 0, 0, 0], 'image_id': 52943, 'hold_obj': [0, 0, 0, 0, 0], 'drink_instr': [0, 0, 0, 0, 0], 'lay_instr': [0, 0, 0, 0, 0], 'talk_on_phone_instr': [0, 0, 0, 0, 0], 'person_box': [23.318938756964233, 109.26110447269033, 43.92183254705369, 146.89392946878732], 'ski_instr': [0, 0, 0, 0, 0], 'ride_agent': 0, 'carry_agent': 0}\n"
     ]
    }
   ],
   "source": [
    "for i in range(20):\n",
    "    print prediction_list[i]"
   ]
  },
  {
   "cell_type": "code",
   "execution_count": 11,
   "metadata": {},
   "outputs": [],
   "source": [
    "pickle_out = open(\"detections.pkl\",\"wb\")\n",
    "pickle.dump(prediction_list, pickle_out)\n",
    "pickle_out.close()"
   ]
  },
  {
   "cell_type": "code",
   "execution_count": 2,
   "metadata": {},
   "outputs": [
    {
     "name": "stdout",
     "output_type": "stream",
     "text": [
      "loading annotations into memory...\n",
      "Done (t=2.69s)\n",
      "creating index...\n",
      "index created!\n",
      "loading vcoco annotations...\n"
     ]
    }
   ],
   "source": [
    "from vsrl_eval import VCOCOeval\n",
    "\n",
    "vsrl_annot_file = 'data/vcoco/vcoco_val.json'\n",
    "coco_file = 'data/instances_vcoco_all_2017.json'\n",
    "split_file = 'data/splits/vcoco_val.ids'\n",
    "det_file = 'detections.pkl'\n",
    "vcocoeval = VCOCOeval(vsrl_annot_file, coco_file, split_file)\n"
   ]
  },
  {
   "cell_type": "code",
   "execution_count": 3,
   "metadata": {},
   "outputs": [
    {
     "name": "stdout",
     "output_type": "stream",
     "text": [
      "---------Reporting Role AP (%)------------------\n",
      "               hold-obj: AP = 19.13 (#pos = 2163)\n",
      "              sit-instr: AP = 14.95 (#pos = 1054)\n",
      "             ride-instr: AP = 41.39 (#pos = 236)\n",
      "               look-obj: AP = 18.96 (#pos = 2055)\n",
      "              hit-instr: AP = 43.52 (#pos = 203)\n",
      "                hit-obj: AP = 18.06 (#pos = 203)\n",
      "                eat-obj: AP = 17.31 (#pos = 376)\n",
      "              eat-instr: AP = 3.64 (#pos = 376)\n",
      "             jump-instr: AP = 48.39 (#pos = 381)\n",
      "              lay-instr: AP = 13.56 (#pos = 228)\n",
      "    talk_on_phone-instr: AP = 17.57 (#pos = 187)\n",
      "              carry-obj: AP = 22.57 (#pos = 262)\n",
      "              throw-obj: AP = 20.90 (#pos = 141)\n",
      "              catch-obj: AP = 21.30 (#pos = 161)\n",
      "              cut-instr: AP = 5.11 (#pos = 173)\n",
      "                cut-obj: AP = 9.85 (#pos = 173)\n",
      " work_on_computer-instr: AP = 32.97 (#pos = 248)\n",
      "              ski-instr: AP = 27.71 (#pos = 310)\n",
      "             surf-instr: AP = 54.22 (#pos = 259)\n",
      "       skateboard-instr: AP = 70.50 (#pos = 269)\n",
      "            drink-instr: AP = 11.71 (#pos = 70)\n",
      "               kick-obj: AP = 53.78 (#pos = 77)\n",
      "            point-instr: AP = 0.17 (#pos = 23)\n",
      "               read-obj: AP = 2.57 (#pos = 65)\n",
      "        snowboard-instr: AP = 57.13 (#pos = 212)\n",
      "Average Role [scenario_1] AP = 25.88\n",
      "---------------------------------------------\n",
      "47 125\n",
      "---------Reporting Role AP (%)------------------\n",
      "               hold-obj: AP = 24.19 (#pos = 2163)\n",
      "              sit-instr: AP = 22.73 (#pos = 1054)\n",
      "             ride-instr: AP = 42.62 (#pos = 236)\n",
      "               look-obj: AP = 24.46 (#pos = 2055)\n",
      "              hit-instr: AP = 48.50 (#pos = 203)\n",
      "                hit-obj: AP = 21.75 (#pos = 203)\n",
      "                eat-obj: AP = 30.35 (#pos = 376)\n",
      "              eat-instr: AP = 10.13 (#pos = 376)\n",
      "             jump-instr: AP = 49.03 (#pos = 381)\n",
      "              lay-instr: AP = 20.33 (#pos = 228)\n",
      "    talk_on_phone-instr: AP = 18.64 (#pos = 187)\n",
      "              carry-obj: AP = 24.07 (#pos = 262)\n",
      "              throw-obj: AP = 21.85 (#pos = 141)\n",
      "              catch-obj: AP = 22.31 (#pos = 161)\n",
      "              cut-instr: AP = 6.49 (#pos = 173)\n",
      "                cut-obj: AP = 13.07 (#pos = 173)\n",
      " work_on_computer-instr: AP = 38.59 (#pos = 248)\n",
      "              ski-instr: AP = 33.12 (#pos = 310)\n",
      "             surf-instr: AP = 55.22 (#pos = 259)\n",
      "       skateboard-instr: AP = 71.11 (#pos = 269)\n",
      "            drink-instr: AP = 11.71 (#pos = 70)\n",
      "               kick-obj: AP = 58.11 (#pos = 77)\n",
      "            point-instr: AP = 0.17 (#pos = 23)\n",
      "               read-obj: AP = 2.57 (#pos = 65)\n",
      "        snowboard-instr: AP = 59.29 (#pos = 212)\n",
      "Average Role [scenario_2] AP = 29.22\n",
      "---------------------------------------------\n",
      "47 125\n"
     ]
    }
   ],
   "source": [
    "fp, fn =vcocoeval._do_eval(det_file, ovr_thresh=0.5)"
   ]
  },
  {
   "cell_type": "code",
   "execution_count": 9,
   "metadata": {},
   "outputs": [],
   "source": [
    "pickle_out = open(\"fp_fn_samples.pkl\",\"wb\")\n",
    "pickle.dump([fp, fn], pickle_out)\n",
    "pickle_out.close()"
   ]
  },
  {
   "cell_type": "code",
   "execution_count": 6,
   "metadata": {},
   "outputs": [
    {
     "name": "stdout",
     "output_type": "stream",
     "text": [
      "<type 'list'>\n"
     ]
    }
   ],
   "source": [
    "print type(fp[0])"
   ]
  },
  {
   "cell_type": "code",
   "execution_count": 4,
   "metadata": {},
   "outputs": [
    {
     "name": "stdout",
     "output_type": "stream",
     "text": [
      "<type 'list'>\n",
      "<type 'int'>\n",
      "<type 'list'>\n",
      "<type 'list'>\n",
      "<type 'str'>\n",
      "<type 'float'>\n",
      "<type 'int'>\n",
      "<type 'list'>\n",
      "<type 'list'>\n",
      "<type 'str'>\n",
      "<type 'float'>\n"
     ]
    }
   ],
   "source": [
    "print type(fp)\n",
    "for i in fp[-1]:\n",
    "    print type(i)\n",
    "for j in fn[0]:\n",
    "    print type(j)"
   ]
  },
  {
   "cell_type": "code",
   "execution_count": 16,
   "metadata": {},
   "outputs": [
    {
     "name": "stdout",
     "output_type": "stream",
     "text": [
      "<type 'int'>\n"
     ]
    },
    {
     "ename": "TypeError",
     "evalue": "float() argument must be a string or a number",
     "output_type": "error",
     "traceback": [
      "\u001b[0;31m---------------------------------------------------------------------------\u001b[0m",
      "\u001b[0;31mTypeError\u001b[0m                                 Traceback (most recent call last)",
      "\u001b[0;32m<ipython-input-16-b01e45d4dd91>\u001b[0m in \u001b[0;36m<module>\u001b[0;34m()\u001b[0m\n\u001b[1;32m      1\u001b[0m \u001b[0ma\u001b[0m \u001b[0;34m=\u001b[0m \u001b[0;34m[\u001b[0m\u001b[0;36m0\u001b[0m\u001b[0;34m,\u001b[0m \u001b[0;36m3\u001b[0m\u001b[0;34m]\u001b[0m\u001b[0;34m\u001b[0m\u001b[0m\n\u001b[1;32m      2\u001b[0m \u001b[0;32mprint\u001b[0m \u001b[0mtype\u001b[0m\u001b[0;34m(\u001b[0m\u001b[0ma\u001b[0m\u001b[0;34m[\u001b[0m\u001b[0;36m0\u001b[0m\u001b[0;34m]\u001b[0m\u001b[0;34m)\u001b[0m\u001b[0;34m\u001b[0m\u001b[0m\n\u001b[0;32m----> 3\u001b[0;31m \u001b[0ma\u001b[0m \u001b[0;34m=\u001b[0m \u001b[0mfloat\u001b[0m\u001b[0;34m(\u001b[0m\u001b[0ma\u001b[0m\u001b[0;34m)\u001b[0m\u001b[0;34m\u001b[0m\u001b[0m\n\u001b[0m\u001b[1;32m      4\u001b[0m \u001b[0;32mprint\u001b[0m \u001b[0mtype\u001b[0m\u001b[0;34m(\u001b[0m\u001b[0ma\u001b[0m\u001b[0;34m[\u001b[0m\u001b[0;36m0\u001b[0m\u001b[0;34m]\u001b[0m\u001b[0;34m)\u001b[0m\u001b[0;34m\u001b[0m\u001b[0m\n",
      "\u001b[0;31mTypeError\u001b[0m: float() argument must be a string or a number"
     ]
    }
   ],
   "source": [
    "a = [0, 3]\n",
    "print type(a[0])\n",
    "a = float(a)\n",
    "print type(a[0])"
   ]
  },
  {
   "cell_type": "code",
   "execution_count": null,
   "metadata": {},
   "outputs": [],
   "source": []
  }
 ],
 "metadata": {
  "kernelspec": {
   "display_name": "Python 2",
   "language": "python",
   "name": "python2"
  },
  "language_info": {
   "codemirror_mode": {
    "name": "ipython",
    "version": 2
   },
   "file_extension": ".py",
   "mimetype": "text/x-python",
   "name": "python",
   "nbconvert_exporter": "python",
   "pygments_lexer": "ipython2",
   "version": "2.7.12"
  }
 },
 "nbformat": 4,
 "nbformat_minor": 2
}
