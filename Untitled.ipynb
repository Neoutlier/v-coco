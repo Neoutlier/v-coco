{
 "cells": [
  {
   "cell_type": "code",
   "execution_count": 25,
   "metadata": {},
   "outputs": [
    {
     "name": "stdout",
     "output_type": "stream",
     "text": [
      "{'hold_agent': 0.0002114721159508473, 'image_id': '000000387895.jpg', 'person_box': [72.30834281589239, 41.644539852812954, 506.1493144664225, 298.14040358591734], 'hold_obj': [528.8302153630696, 192.51949405811558, 614.9793992681213, 286.74257456685905, 0.0002114721159508473]}\n"
     ]
    }
   ],
   "source": [
    "import os\n",
    "import pickle\n",
    "import copy\n",
    "\n",
    "result_file = 'results.txt.all'\n",
    "assert(os.path.exists(result_file))\n",
    "prediction_list = []\n",
    "pred_dict = {}\n",
    "with open(result_file, 'r') as f:\n",
    "    for line in f:\n",
    "        new_pred_dict = copy.deepcopy(pred_dict)\n",
    "        line2 = line[:-1]\n",
    "        elements = line2.split(' ')\n",
    "        if len(elements) == 12:\n",
    "            imgid = elements[0].rsplit('/')[-1]\n",
    "            person_box = [float(elements[1]), float(elements[2]), float(elements[3]), float(elements[4])]\n",
    "            score = float(elements[-1])\n",
    "            obj_box = [float(elements[6]), float(elements[7]), float(elements[8]), float(elements[9]), score]\n",
    "            action_kind = int(elements[-2])\n",
    "            if action_kind not in role_dict:\n",
    "                continue\n",
    "            keyone = action_dict[action_kind] + '_agent'\n",
    "            keytwo = action_dict[action_kind] + '_' + role_dict[action_kind]\n",
    "            new_pred_dict['person_box'] = person_box\n",
    "            new_pred_dict[keyone] = score\n",
    "            new_pred_dict[keytwo] = obj_box\n",
    "            new_pred_dict['image_id'] = imgid\n",
    "            prediction_list.append(new_pred_dict)\n",
    "print new_pred_dict\n"
   ]
  },
  {
   "cell_type": "code",
   "execution_count": 18,
   "metadata": {},
   "outputs": [
    {
     "name": "stdout",
     "output_type": "stream",
     "text": [
      "{1: 'hold', 2: 'stand', 3: 'sit', 4: 'ride', 5: 'walk', 6: 'look', 7: 'hit', 8: 'eat', 9: 'jump', 10: 'lay', 11: 'talk_on_phone', 12: 'carry', 13: 'throw', 14: 'catch', 15: 'cut', 16: 'run', 17: 'work_on_computer', 18: 'ski', 19: 'surf', 20: 'skateboard', 21: 'smile', 22: 'drink', 23: 'kick', 24: 'point', 25: 'read', 26: 'snowboard'}\n",
      "{1: 'obj', 3: 'instr', 4: 'instr', 6: 'obj', 7: 'instr', 8: 'obj', 9: 'instr', 10: 'instr', 11: 'instr', 12: 'obj', 13: 'obj', 14: 'obj', 15: 'instr', 17: 'instr', 18: 'instr', 19: 'instr', 20: 'instr', 22: 'instr', 23: 'obj', 24: 'instr', 25: 'obj', 26: 'instr'}\n"
     ]
    }
   ],
   "source": [
    "import __init__\n",
    "import vsrl_utils as vu\n",
    "import numpy as np\n",
    "import copy\n",
    "\n",
    "%matplotlib inline\n",
    "import matplotlib\n",
    "import matplotlib.pyplot as plt\n",
    "\n",
    "#vcoco_all = vu.load_vcoco('vcoco_train')\n",
    "classes = [x['action_name'] for x in vcoco_all]\n",
    "action_dict = {}\n",
    "role_dict = {}\n",
    "for i, x in enumerate(vcoco_all):\n",
    "    # print '{:>20s}'.format(x['action_name']), x['role_name']\n",
    "    action_dict[i+1] = x['action_name']\n",
    "    if len(x['role_name']) > 1:\n",
    "        role_dict[i+1] = x['role_name'][1]\n",
    "print action_dict\n",
    "print role_dict"
   ]
  },
  {
   "cell_type": "code",
   "execution_count": 28,
   "metadata": {},
   "outputs": [
    {
     "name": "stdout",
     "output_type": "stream",
     "text": [
      "{'ski_agent': 0.42585020629785475, 'image_id': '000000560567.jpg', 'person_box': [291.3332540638902, 64.57866391439782, 514.8958061660052, 415.84241147555804], 'ski_instr': [279.6410867318553, 377.86843058099873, 611.6655576886673, 479.4, 0.42585020629785475]}\n",
      "{'image_id': '000000560567.jpg', 'snowboard_agent': 0.2894082009990703, 'person_box': [291.3332540638902, 64.57866391439782, 514.8958061660052, 415.84241147555804], 'snowboard_instr': [279.6410867318553, 377.86843058099873, 611.6655576886673, 479.4, 0.2894082009990703]}\n",
      "{'image_id': '000000560567.jpg', 'snowboard_agent': 0.28508785754815225, 'person_box': [291.3332540638902, 64.57866391439782, 514.8958061660052, 415.84241147555804], 'snowboard_instr': [161.67315492567096, 357.9601129834673, 405.8441448960903, 455.17738002031433, 0.28508785754815225]}\n",
      "{'ski_agent': 0.11571800948735181, 'image_id': '000000560567.jpg', 'person_box': [291.3332540638902, 64.57866391439782, 514.8958061660052, 415.84241147555804], 'ski_instr': [161.67315492567096, 357.9601129834673, 405.8441448960903, 455.17738002031433, 0.11571800948735181]}\n",
      "{'image_id': '000000560567.jpg', 'snowboard_agent': 0.06079171766946171, 'person_box': [316.54624462673144, 123.47176713167401, 454.7137394157612, 401.4284450987418], 'snowboard_instr': [161.67315492567096, 357.9601129834673, 405.8441448960903, 455.17738002031433, 0.06079171766946171]}\n",
      "{'ski_agent': 0.05270725385371918, 'image_id': '000000560567.jpg', 'person_box': [291.3332540638902, 64.57866391439782, 514.8958061660052, 415.84241147555804], 'ski_instr': [330.00193811656453, 375.4012440684703, 606.966237336017, 478.13389017741855, 0.05270725385371918]}\n",
      "{'image_id': '000000560567.jpg', 'snowboard_agent': 0.04877683567015457, 'person_box': [402.422606304109, 55.422505614806035, 526.373300969932, 416.91263939491193], 'snowboard_instr': [330.00193811656453, 375.4012440684703, 606.966237336017, 478.13389017741855, 0.04877683567015457]}\n",
      "{'look_obj': [279.6410867318553, 377.86843058099873, 611.6655576886673, 479.4, 0.04471012308898289], 'person_box': [291.3332540638902, 64.57866391439782, 514.8958061660052, 415.84241147555804], 'look_agent': 0.04471012308898289, 'image_id': '000000560567.jpg'}\n",
      "{'image_id': '000000560567.jpg', 'snowboard_agent': 0.03022041560846676, 'person_box': [402.422606304109, 55.422505614806035, 526.373300969932, 416.91263939491193], 'snowboard_instr': [392.03672730036277, 376.3074855385975, 618.4739176298261, 453.6878827435243, 0.03022041560846676]}\n",
      "{'image_id': '000000560567.jpg', 'snowboard_agent': 0.02849433235894905, 'person_box': [402.422606304109, 55.422505614806035, 526.373300969932, 416.91263939491193], 'snowboard_instr': [279.6410867318553, 377.86843058099873, 611.6655576886673, 479.4, 0.02849433235894905]}\n",
      "{'image_id': '000000560567.jpg', 'snowboard_agent': 0.02752876475352697, 'person_box': [291.3332540638902, 64.57866391439782, 514.8958061660052, 415.84241147555804], 'snowboard_instr': [330.00193811656453, 375.4012440684703, 606.966237336017, 478.13389017741855, 0.02752876475352697]}\n",
      "{'look_obj': [161.67315492567096, 357.9601129834673, 405.8441448960903, 455.17738002031433, 0.027017884809930493], 'person_box': [316.54624462673144, 123.47176713167401, 454.7137394157612, 401.4284450987418], 'look_agent': 0.027017884809930493, 'image_id': '000000560567.jpg'}\n",
      "{'ski_agent': 0.026411069189069995, 'image_id': '000000560567.jpg', 'person_box': [316.54624462673144, 123.47176713167401, 454.7137394157612, 401.4284450987418], 'ski_instr': [161.67315492567096, 357.9601129834673, 405.8441448960903, 455.17738002031433, 0.026411069189069995]}\n",
      "{'look_obj': [161.67315492567096, 357.9601129834673, 405.8441448960903, 455.17738002031433, 0.02131045446406], 'person_box': [291.3332540638902, 64.57866391439782, 514.8958061660052, 415.84241147555804], 'look_agent': 0.02131045446406, 'image_id': '000000560567.jpg'}\n",
      "{'image_id': '000000560567.jpg', 'snowboard_agent': 0.020845046478574786, 'person_box': [291.3332540638902, 64.57866391439782, 514.8958061660052, 415.84241147555804], 'snowboard_instr': [164.5839381228741, 387.19798727996226, 557.6516301565863, 458.55315127550716, 0.020845046478574786]}\n",
      "{'ski_agent': 0.019634687381097173, 'image_id': '000000560567.jpg', 'person_box': [266.1139230562195, 90.36046352620558, 421.8115833508314, 394.41782896705814], 'ski_instr': [161.67315492567096, 357.9601129834673, 405.8441448960903, 455.17738002031433, 0.019634687381097173]}\n",
      "{'ski_agent': 0.018845078804937198, 'image_id': '000000560567.jpg', 'person_box': [402.422606304109, 55.422505614806035, 526.373300969932, 416.91263939491193], 'ski_instr': [330.00193811656453, 375.4012440684703, 606.966237336017, 478.13389017741855, 0.018845078804937198]}\n",
      "{'carry_agent': 0.0166334749495845, 'image_id': '000000560567.jpg', 'person_box': [593.6849610855988, 7.051768761226401, 639.6, 184.5745720187211], 'carry_obj': [593.6849610855988, 7.051768761226401, 639.6, 184.5745720187211, 0.0166334749495845]}\n",
      "{'image_id': '000000560567.jpg', 'snowboard_agent': 0.015768792677701402, 'person_box': [291.3332540638902, 64.57866391439782, 514.8958061660052, 415.84241147555804], 'snowboard_instr': [142.28780642501656, 414.6419353605826, 597.4169834481215, 476.63275453997085, 0.015768792677701402]}\n",
      "{'ski_agent': 0.014246669742276608, 'image_id': '000000560567.jpg', 'person_box': [402.422606304109, 55.422505614806035, 526.373300969932, 416.91263939491193], 'ski_instr': [392.03672730036277, 376.3074855385975, 618.4739176298261, 453.6878827435243, 0.014246669742276608]}\n"
     ]
    }
   ],
   "source": [
    "for i in range(20):\n",
    "    print prediction_list[i]"
   ]
  },
  {
   "cell_type": "code",
   "execution_count": 29,
   "metadata": {},
   "outputs": [],
   "source": [
    "pickle_out = open(\"detections.pkl\",\"wb\")\n",
    "pickle.dump(prediction_list, pickle_out)\n",
    "pickle_out.close()"
   ]
  },
  {
   "cell_type": "code",
   "execution_count": 32,
   "metadata": {},
   "outputs": [
    {
     "name": "stdout",
     "output_type": "stream",
     "text": [
      "loading annotations into memory...\n",
      "Done (t=1.28s)\n",
      "creating index...\n",
      "index created!\n",
      "loading vcoco annotations...\n"
     ]
    }
   ],
   "source": [
    "from vsrl_eval import VCOCOeval\n",
    "\n",
    "vsrl_annot_file = 'data/vcoco/vcoco_test.json'\n",
    "coco_file = 'data/instances_vcoco_all_2017.json'\n",
    "split_file = 'data/splits/vcoco_test.ids'\n",
    "det_file = 'detections.pkl'\n",
    "vcocoeval = VCOCOeval(vsrl_annot_file, coco_file, split_file)\n"
   ]
  },
  {
   "cell_type": "code",
   "execution_count": 33,
   "metadata": {},
   "outputs": [
    {
     "ename": "ValueError",
     "evalue": "zero-size array to reduction operation maximum which has no identity",
     "output_type": "error",
     "traceback": [
      "\u001b[0;31m---------------------------------------------------------------------------\u001b[0m",
      "\u001b[0;31mValueError\u001b[0m                                Traceback (most recent call last)",
      "\u001b[0;32m<ipython-input-33-29f2426b18cb>\u001b[0m in \u001b[0;36m<module>\u001b[0;34m()\u001b[0m\n\u001b[0;32m----> 1\u001b[0;31m \u001b[0mvcocoeval\u001b[0m\u001b[0;34m.\u001b[0m\u001b[0m_do_eval\u001b[0m\u001b[0;34m(\u001b[0m\u001b[0mdet_file\u001b[0m\u001b[0;34m,\u001b[0m \u001b[0movr_thresh\u001b[0m\u001b[0;34m=\u001b[0m\u001b[0;36m0.5\u001b[0m\u001b[0;34m)\u001b[0m\u001b[0;34m\u001b[0m\u001b[0m\n\u001b[0m",
      "\u001b[0;32m/mnt/d/sensetime/v-coco/vsrl_eval.py\u001b[0m in \u001b[0;36m_do_eval\u001b[0;34m(self, detections_file, ovr_thresh)\u001b[0m\n\u001b[1;32m    190\u001b[0m   \u001b[0;32mdef\u001b[0m \u001b[0m_do_eval\u001b[0m\u001b[0;34m(\u001b[0m\u001b[0mself\u001b[0m\u001b[0;34m,\u001b[0m \u001b[0mdetections_file\u001b[0m\u001b[0;34m,\u001b[0m \u001b[0movr_thresh\u001b[0m\u001b[0;34m=\u001b[0m\u001b[0;36m0.5\u001b[0m\u001b[0;34m)\u001b[0m\u001b[0;34m:\u001b[0m\u001b[0;34m\u001b[0m\u001b[0m\n\u001b[1;32m    191\u001b[0m     \u001b[0mvcocodb\u001b[0m \u001b[0;34m=\u001b[0m \u001b[0mself\u001b[0m\u001b[0;34m.\u001b[0m\u001b[0m_get_vcocodb\u001b[0m\u001b[0;34m(\u001b[0m\u001b[0;34m)\u001b[0m\u001b[0;34m\u001b[0m\u001b[0m\n\u001b[0;32m--> 192\u001b[0;31m     \u001b[0;31m# self._do_agent_eval(vcocodb, detections_file, ovr_thresh=ovr_thresh)\u001b[0m\u001b[0;34m\u001b[0m\u001b[0;34m\u001b[0m\u001b[0m\n\u001b[0m\u001b[1;32m    193\u001b[0m     \u001b[0mself\u001b[0m\u001b[0;34m.\u001b[0m\u001b[0m_do_role_eval\u001b[0m\u001b[0;34m(\u001b[0m\u001b[0mvcocodb\u001b[0m\u001b[0;34m,\u001b[0m \u001b[0mdetections_file\u001b[0m\u001b[0;34m,\u001b[0m \u001b[0movr_thresh\u001b[0m\u001b[0;34m=\u001b[0m\u001b[0movr_thresh\u001b[0m\u001b[0;34m,\u001b[0m \u001b[0meval_type\u001b[0m\u001b[0;34m=\u001b[0m\u001b[0;34m'scenario_1'\u001b[0m\u001b[0;34m)\u001b[0m\u001b[0;34m\u001b[0m\u001b[0m\n\u001b[1;32m    194\u001b[0m     \u001b[0mself\u001b[0m\u001b[0;34m.\u001b[0m\u001b[0m_do_role_eval\u001b[0m\u001b[0;34m(\u001b[0m\u001b[0mvcocodb\u001b[0m\u001b[0;34m,\u001b[0m \u001b[0mdetections_file\u001b[0m\u001b[0;34m,\u001b[0m \u001b[0movr_thresh\u001b[0m\u001b[0;34m=\u001b[0m\u001b[0movr_thresh\u001b[0m\u001b[0;34m,\u001b[0m \u001b[0meval_type\u001b[0m\u001b[0;34m=\u001b[0m\u001b[0;34m'scenario_2'\u001b[0m\u001b[0;34m)\u001b[0m\u001b[0;34m\u001b[0m\u001b[0m\n",
      "\u001b[0;32m/mnt/d/sensetime/v-coco/vsrl_eval.py\u001b[0m in \u001b[0;36m_do_agent_eval\u001b[0;34m(self, vcocodb, detections_file, ovr_thresh)\u001b[0m\n\u001b[1;32m    413\u001b[0m       \u001b[0mrec\u001b[0m \u001b[0;34m=\u001b[0m \u001b[0ma_tp\u001b[0m \u001b[0;34m/\u001b[0m \u001b[0mfloat\u001b[0m\u001b[0;34m(\u001b[0m\u001b[0mnpos\u001b[0m\u001b[0;34m[\u001b[0m\u001b[0maid\u001b[0m\u001b[0;34m]\u001b[0m\u001b[0;34m)\u001b[0m\u001b[0;34m\u001b[0m\u001b[0m\n\u001b[1;32m    414\u001b[0m       \u001b[0;31m#check\u001b[0m\u001b[0;34m\u001b[0m\u001b[0;34m\u001b[0m\u001b[0m\n\u001b[0;32m--> 415\u001b[0;31m       \u001b[0;32massert\u001b[0m\u001b[0;34m(\u001b[0m\u001b[0mnp\u001b[0m\u001b[0;34m.\u001b[0m\u001b[0mamax\u001b[0m\u001b[0;34m(\u001b[0m\u001b[0mrec\u001b[0m\u001b[0;34m)\u001b[0m \u001b[0;34m<=\u001b[0m \u001b[0;36m1\u001b[0m\u001b[0;34m)\u001b[0m\u001b[0;34m\u001b[0m\u001b[0m\n\u001b[0m\u001b[1;32m    416\u001b[0m       \u001b[0mprec\u001b[0m \u001b[0;34m=\u001b[0m \u001b[0ma_tp\u001b[0m \u001b[0;34m/\u001b[0m \u001b[0mnp\u001b[0m\u001b[0;34m.\u001b[0m\u001b[0mmaximum\u001b[0m\u001b[0;34m(\u001b[0m\u001b[0ma_tp\u001b[0m \u001b[0;34m+\u001b[0m \u001b[0ma_fp\u001b[0m\u001b[0;34m,\u001b[0m \u001b[0mnp\u001b[0m\u001b[0;34m.\u001b[0m\u001b[0mfinfo\u001b[0m\u001b[0;34m(\u001b[0m\u001b[0mnp\u001b[0m\u001b[0;34m.\u001b[0m\u001b[0mfloat64\u001b[0m\u001b[0;34m)\u001b[0m\u001b[0;34m.\u001b[0m\u001b[0meps\u001b[0m\u001b[0;34m)\u001b[0m\u001b[0;34m\u001b[0m\u001b[0m\n\u001b[1;32m    417\u001b[0m       \u001b[0magent_ap\u001b[0m\u001b[0;34m[\u001b[0m\u001b[0maid\u001b[0m\u001b[0;34m]\u001b[0m \u001b[0;34m=\u001b[0m \u001b[0mvoc_ap\u001b[0m\u001b[0;34m(\u001b[0m\u001b[0mrec\u001b[0m\u001b[0;34m,\u001b[0m \u001b[0mprec\u001b[0m\u001b[0;34m)\u001b[0m\u001b[0;34m\u001b[0m\u001b[0m\n",
      "\u001b[0;32m/mnt/d/venv/27/local/lib/python2.7/site-packages/numpy/core/fromnumeric.pyc\u001b[0m in \u001b[0;36mamax\u001b[0;34m(a, axis, out, keepdims, initial)\u001b[0m\n\u001b[1;32m   2503\u001b[0m     \"\"\"\n\u001b[1;32m   2504\u001b[0m     return _wrapreduction(a, np.maximum, 'max', axis, None, out, keepdims=keepdims,\n\u001b[0;32m-> 2505\u001b[0;31m                           initial=initial)\n\u001b[0m\u001b[1;32m   2506\u001b[0m \u001b[0;34m\u001b[0m\u001b[0m\n\u001b[1;32m   2507\u001b[0m \u001b[0;34m\u001b[0m\u001b[0m\n",
      "\u001b[0;32m/mnt/d/venv/27/local/lib/python2.7/site-packages/numpy/core/fromnumeric.pyc\u001b[0m in \u001b[0;36m_wrapreduction\u001b[0;34m(obj, ufunc, method, axis, dtype, out, **kwargs)\u001b[0m\n\u001b[1;32m     84\u001b[0m                 \u001b[0;32mreturn\u001b[0m \u001b[0mreduction\u001b[0m\u001b[0;34m(\u001b[0m\u001b[0maxis\u001b[0m\u001b[0;34m=\u001b[0m\u001b[0maxis\u001b[0m\u001b[0;34m,\u001b[0m \u001b[0mout\u001b[0m\u001b[0;34m=\u001b[0m\u001b[0mout\u001b[0m\u001b[0;34m,\u001b[0m \u001b[0;34m**\u001b[0m\u001b[0mpasskwargs\u001b[0m\u001b[0;34m)\u001b[0m\u001b[0;34m\u001b[0m\u001b[0m\n\u001b[1;32m     85\u001b[0m \u001b[0;34m\u001b[0m\u001b[0m\n\u001b[0;32m---> 86\u001b[0;31m     \u001b[0;32mreturn\u001b[0m \u001b[0mufunc\u001b[0m\u001b[0;34m.\u001b[0m\u001b[0mreduce\u001b[0m\u001b[0;34m(\u001b[0m\u001b[0mobj\u001b[0m\u001b[0;34m,\u001b[0m \u001b[0maxis\u001b[0m\u001b[0;34m,\u001b[0m \u001b[0mdtype\u001b[0m\u001b[0;34m,\u001b[0m \u001b[0mout\u001b[0m\u001b[0;34m,\u001b[0m \u001b[0;34m**\u001b[0m\u001b[0mpasskwargs\u001b[0m\u001b[0;34m)\u001b[0m\u001b[0;34m\u001b[0m\u001b[0m\n\u001b[0m\u001b[1;32m     87\u001b[0m \u001b[0;34m\u001b[0m\u001b[0m\n\u001b[1;32m     88\u001b[0m \u001b[0;34m\u001b[0m\u001b[0m\n",
      "\u001b[0;31mValueError\u001b[0m: zero-size array to reduction operation maximum which has no identity"
     ]
    }
   ],
   "source": [
    "vcocoeval._do_eval(det_file, ovr_thresh=0.5)"
   ]
  },
  {
   "cell_type": "code",
   "execution_count": null,
   "metadata": {},
   "outputs": [],
   "source": []
  }
 ],
 "metadata": {
  "kernelspec": {
   "display_name": "Python 2",
   "language": "python",
   "name": "python2"
  },
  "language_info": {
   "codemirror_mode": {
    "name": "ipython",
    "version": 2
   },
   "file_extension": ".py",
   "mimetype": "text/x-python",
   "name": "python",
   "nbconvert_exporter": "python",
   "pygments_lexer": "ipython2",
   "version": "2.7.12"
  }
 },
 "nbformat": 4,
 "nbformat_minor": 2
}
